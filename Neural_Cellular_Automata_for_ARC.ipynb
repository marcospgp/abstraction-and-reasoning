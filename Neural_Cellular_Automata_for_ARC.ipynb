{
  "nbformat": 4,
  "nbformat_minor": 0,
  "metadata": {
    "colab": {
      "name": "Neural Cellular Automata for ARC.ipynb",
      "provenance": [],
      "collapsed_sections": [],
      "toc_visible": true,
      "include_colab_link": true
    },
    "kernelspec": {
      "name": "python3",
      "display_name": "Python 3"
    }
  },
  "cells": [
    {
      "cell_type": "markdown",
      "metadata": {
        "id": "view-in-github",
        "colab_type": "text"
      },
      "source": [
        "<a href=\"https://colab.research.google.com/github/marcospgp/abstraction-and-reasoning/blob/master/Neural_Cellular_Automata_for_ARC.ipynb\" target=\"_parent\"><img src=\"https://colab.research.google.com/assets/colab-badge.svg\" alt=\"Open In Colab\"/></a>"
      ]
    },
    {
      "cell_type": "markdown",
      "metadata": {
        "id": "yhs1EGAZgcDm"
      },
      "source": [
        "# Visualizing the problem"
      ]
    },
    {
      "cell_type": "code",
      "metadata": {
        "id": "tDZNJwmZ65r3",
        "outputId": "9d7b9129-72aa-4f11-b294-1a576fa0493e",
        "colab": {
          "base_uri": "https://localhost:8080/",
          "height": 119
        }
      },
      "source": [
        "!pip install --upgrade keras"
      ],
      "execution_count": 11,
      "outputs": [
        {
          "output_type": "stream",
          "text": [
            "Requirement already up-to-date: keras in /usr/local/lib/python3.6/dist-packages (2.4.3)\n",
            "Requirement already satisfied, skipping upgrade: pyyaml in /usr/local/lib/python3.6/dist-packages (from keras) (3.13)\n",
            "Requirement already satisfied, skipping upgrade: h5py in /usr/local/lib/python3.6/dist-packages (from keras) (2.10.0)\n",
            "Requirement already satisfied, skipping upgrade: scipy>=0.14 in /usr/local/lib/python3.6/dist-packages (from keras) (1.4.1)\n",
            "Requirement already satisfied, skipping upgrade: numpy>=1.9.1 in /usr/local/lib/python3.6/dist-packages (from keras) (1.18.5)\n",
            "Requirement already satisfied, skipping upgrade: six in /usr/local/lib/python3.6/dist-packages (from h5py->keras) (1.15.0)\n"
          ],
          "name": "stdout"
        }
      ]
    },
    {
      "cell_type": "code",
      "metadata": {
        "id": "_m8o55kRPaLu",
        "outputId": "1efcd3cb-e441-458d-e3e1-587cd7310449",
        "colab": {
          "base_uri": "https://localhost:8080/",
          "height": 34
        }
      },
      "source": [
        "!git clone https://github.com/fchollet/ARC.git"
      ],
      "execution_count": 12,
      "outputs": [
        {
          "output_type": "stream",
          "text": [
            "fatal: destination path 'ARC' already exists and is not an empty directory.\n"
          ],
          "name": "stdout"
        }
      ]
    },
    {
      "cell_type": "code",
      "metadata": {
        "id": "bJnOPo4nbhiK",
        "outputId": "6a7aba4e-ed52-40d0-bd35-648376c14a6e",
        "colab": {
          "base_uri": "https://localhost:8080/",
          "height": 102
        }
      },
      "source": [
        "import os\n",
        "import json\n",
        "\n",
        "# task_file = \"./ARC/data/training/00d62c1b.json\"\n",
        "\n",
        "task_files = sorted(os.listdir(\"./ARC/data/training\"))\n",
        "\n",
        "print(\"Filenames of first 3 training tasks:\")\n",
        "print(task_files[:3])\n",
        "\n",
        "tasks = []\n",
        "\n",
        "for filename in task_files:\n",
        "    with open(f\"./ARC/data/training/{filename}\", \"r\") as f:\n",
        "        tasks.append(json.load(f))\n",
        "\n",
        "print(\"\\nFirst task's keys:\")\n",
        "display(tasks[0].keys())"
      ],
      "execution_count": 13,
      "outputs": [
        {
          "output_type": "stream",
          "text": [
            "Filenames of first 3 training tasks:\n",
            "['007bbfb7.json', '00d62c1b.json', '017c7c7b.json']\n",
            "\n",
            "First task's keys:\n"
          ],
          "name": "stdout"
        },
        {
          "output_type": "display_data",
          "data": {
            "text/plain": [
              "dict_keys(['test', 'train'])"
            ]
          },
          "metadata": {
            "tags": []
          }
        }
      ]
    },
    {
      "cell_type": "code",
      "metadata": {
        "id": "nmvlD4mzgcYE",
        "outputId": "3be3b313-776b-42fe-cb11-94da17d8c780",
        "colab": {
          "base_uri": "https://localhost:8080/",
          "height": 854
        }
      },
      "source": [
        "import matplotlib.pyplot as plt\n",
        "from matplotlib import colors\n",
        "\n",
        "cmap = colors.ListedColormap(['#000000', '#0074D9','#FF4136','#2ECC40',\n",
        "        '#FFDC00', '#AAAAAA', '#F012BE', '#FF851B', '#7FDBFF', '#870C25'])\n",
        "norm = colors.Normalize(vmin=0, vmax=9)\n",
        "\n",
        "# Draws a grid using pyplot.\n",
        "# The grid wil be drawn wherever pyplot is currently pointed - so to draw inside\n",
        "# a particular subplot, for example, simply call plt.subplot() before calling\n",
        "# this function.\n",
        "def plot_one_grid(grid):\n",
        "    plt.imshow(grid, cmap=cmap, norm=norm, extent=(0, len(grid[0]), 0, len(grid)))\n",
        "    plt.grid(True, color=\"gray\")\n",
        "    plt.tick_params(colors=(0, 0, 0, 0))\n",
        "    plt.xticks(range(len(grid[0])))\n",
        "    plt.yticks(range(len(grid)))\n",
        "\n",
        "def display_grid(grid):\n",
        "    \"\"\" Display a single grid \"\"\"\n",
        "    plt.figure()\n",
        "    plot_one_grid(grid)\n",
        "    plt.show()\n",
        "\n",
        "def display_grid_pairs(xs, ys):\n",
        "    rows = len(xs)\n",
        "    cols = 2\n",
        "    pos = 1\n",
        "    plt.figure()\n",
        "    for i, grid in enumerate(xs):\n",
        "        plt.subplot(rows, cols, pos)\n",
        "        plot_one_grid(grid)\n",
        "        pos += 1\n",
        "        plt.subplot(rows, cols, pos)\n",
        "        plot_one_grid(ys[i])\n",
        "        pos += 1\n",
        "    plt.show()\n",
        "\n",
        "def display_task(task, show_labels=True, size=(5, 5)):\n",
        "    \"\"\"\n",
        "    Display a task's example and test grids\n",
        "    \"\"\"\n",
        "    number_of_examples = len(task[\"train\"])\n",
        "    number_of_test_grids = len(task[\"test\"])\n",
        "    rows = max(number_of_examples, number_of_test_grids)\n",
        "\n",
        "    # Adjust figsize and dpi to avoid misaligned grid lines\n",
        "    # (https://stackoverflow.com/questions/53998166/python-matplotlib-misaligned-grid-lines-and-color-fills)\n",
        "    plt.figure(figsize=size, dpi=150)\n",
        "    \n",
        "    # Reduce margins\n",
        "    if show_labels:\n",
        "        plt.subplots_adjust(left=0, right=1, bottom=0, top=1, wspace=0, hspace=0.3)\n",
        "    else:\n",
        "        plt.subplots_adjust(left=0, right=1, bottom=0, top=1, wspace=0, hspace=0.2)\n",
        "\n",
        "    def draw_subplot(title, rows, cols, y, x, grid):\n",
        "        i = cols * y + x + 1\n",
        "        plt.subplot(rows, cols, i)\n",
        "        if (show_labels):\n",
        "            plt.title(title, fontsize=6)\n",
        "        plot_one_grid(grid)\n",
        "\n",
        "    for i in range(number_of_examples):\n",
        "        input = task[\"train\"][i][\"input\"]\n",
        "        output = task[\"train\"][i][\"output\"]\n",
        "        draw_subplot(f\"Training input #{i}\", rows, 4, i, 0, input)\n",
        "        draw_subplot(f\"Training output #{i}\", rows, 4, i, 1, output)\n",
        "\n",
        "    for i in range(number_of_test_grids):\n",
        "        input = task[\"test\"][i][\"input\"]\n",
        "        output = task[\"test\"][i][\"output\"]\n",
        "        draw_subplot(f\"Test input #{i}\", rows, 4, i, 2, input)\n",
        "        draw_subplot(f\"Test output #{i}\", rows, 4, i, 3, output)\n",
        "\n",
        "    plt.show()\n",
        "\n",
        "display_task(tasks[1])"
      ],
      "execution_count": 14,
      "outputs": [
        {
          "output_type": "display_data",
          "data": {
            "image/png": "[encoded data removed]",
            "text/plain": [
              "<Figure size 750x750 with 12 Axes>"
            ]
          },
          "metadata": {
            "tags": [],
            "needs_background": "light"
          }
        }
      ]
    },
    {
      "cell_type": "markdown",
      "metadata": {
        "id": "5eWbBWpNgmgd"
      },
      "source": [
        "# Vectorizing tasks"
      ]
    },
    {
      "cell_type": "code",
      "metadata": {
        "id": "vV8btkiAPnnX",
        "cellView": "both"
      },
      "source": [
        "# Defining constants\n",
        "\n",
        "# The number of channels appended to each square of the grid for the network\n",
        "# to use arbitrarily as a means of communication between neighboring squares.\n",
        "# These channels do not apply to the loss.\n",
        "NUM_COMMUNICATION_CHANNELS = 4"
      ],
      "execution_count": 15,
      "outputs": []
    },
    {
      "cell_type": "code",
      "metadata": {
        "id": "xL4fwC--7smm",
        "outputId": "0ce45919-2bfb-47c0-b33b-018f1d3d0f04",
        "colab": {
          "base_uri": "https://localhost:8080/",
          "height": 34
        }
      },
      "source": [
        "import numpy as np\n",
        "import tensorflow as tf\n",
        "from tensorflow import keras\n",
        "\n",
        "def vectorize_grid(grid):\n",
        "    g = grid\n",
        "\n",
        "    # Fix for when grid has width 1\n",
        "    if len(grid[0]) == 1:\n",
        "        g = []\n",
        "        for line in grid:\n",
        "            g.append([line])\n",
        "    \n",
        "    # Begin by one hot encoding grid\n",
        "    g = keras.utils.to_categorical(g, num_classes=10)\n",
        "    # Now add zeros to each square's vector corresponding to the number of\n",
        "    # arbitrary communication channels\n",
        "    new_grid = []\n",
        "    height = len(g)\n",
        "    width = len(g[0])\n",
        "    for i in range(height):\n",
        "        new_grid.append([])\n",
        "        for j in range(width):\n",
        "            zeros = np.zeros(NUM_COMMUNICATION_CHANNELS)\n",
        "            new_grid[len(new_grid) - 1].append(np.concatenate((g[i][j], zeros)))\n",
        "    return np.array(new_grid, dtype=\"float32\")\n",
        "\n",
        "def devectorize_grid(grid):\n",
        "    new_grid = []\n",
        "    for line in grid:\n",
        "        new_grid.append([])\n",
        "        for square in line:\n",
        "            new_grid[len(new_grid) - 1].append(np.argmax(square[:10]))\n",
        "    return np.array(new_grid)\n",
        "\n",
        "def vectorize_task(task):\n",
        "    result = {\n",
        "        \"train_x\": [],\n",
        "        \"train_y\": [],\n",
        "        \"test_x\": [],\n",
        "        \"test_y\": []\n",
        "    }\n",
        "    for x in task[\"train\"]:\n",
        "\n",
        "        result[\"train_x\"].append(vectorize_grid(x[\"input\"]))\n",
        "        result[\"train_y\"].append(vectorize_grid(x[\"output\"]))\n",
        "\n",
        "    for x in task[\"test\"]:\n",
        "        result[\"test_x\"].append(vectorize_grid(x[\"input\"]))\n",
        "        result[\"test_y\"].append(vectorize_grid(x[\"output\"]))\n",
        "    \n",
        "    return result\n",
        "\n",
        "def devectorize_task(task):\n",
        "    result = { \"train\": [], \"test\": [] }\n",
        "\n",
        "    for i, grid in enumerate(task[\"train_x\"]):\n",
        "        x = devectorize_grid(grid)\n",
        "        y = devectorize_grid(task[\"train_y\"][i])\n",
        "        result[\"train\"].append({ \"input\": x, \"output\": y })\n",
        "\n",
        "    for i, grid in enumerate(task[\"test_x\"]):\n",
        "        x = devectorize_grid(grid)\n",
        "        y = devectorize_grid(task[\"test_y\"][i])\n",
        "        result[\"test\"].append({ \"input\": x, \"output\": y })\n",
        "    \n",
        "    return result\n",
        "\n",
        "# Returns true if all the input/output pairs of a vectorized task have the same\n",
        "# grid dimensions \n",
        "def has_constant_grid_sizes(vectorized_task):\n",
        "    v = vectorized_task\n",
        "    def check(x, y):\n",
        "        x_height = len(x)\n",
        "        x_width = len(x[0])\n",
        "        y_height = len(y)\n",
        "        y_width = len(y[0])\n",
        "\n",
        "        if (x_height != y_height or x_width != y_width):\n",
        "            return False\n",
        "        else:\n",
        "            return True\n",
        "\n",
        "    for i, x in enumerate(v[\"train_x\"]):\n",
        "        y = v[\"train_y\"][i]\n",
        "        if not check(x, y): return False\n",
        "    \n",
        "    for i, x in enumerate(v[\"test_x\"]):\n",
        "        y = v[\"test_y\"][i]\n",
        "        if not check(x, y): return False\n",
        "    \n",
        "    return True\n",
        "\n",
        "# Vectorize grids of tasks where input/output pairs have same dimensions\n",
        "# (our model is not prepared to handle varying grid sizes)\n",
        "vectorized_tasks = []\n",
        "task_names = []\n",
        "for i, task in enumerate(tasks):\n",
        "    x = vectorize_task(task)\n",
        "    if has_constant_grid_sizes(x):\n",
        "        vectorized_tasks.append(x)\n",
        "        task_names.append(task_files[i])\n",
        "        \n",
        "print(f\"Vectorized {len(vectorized_tasks)} tasks with constant input/output dimensions, out of a total of {len(tasks)}.\")"
      ],
      "execution_count": 16,
      "outputs": [
        {
          "output_type": "stream",
          "text": [
            "Vectorized 262 tasks with constant input/output dimensions, out of a total of 400.\n"
          ],
          "name": "stdout"
        }
      ]
    },
    {
      "cell_type": "markdown",
      "metadata": {
        "id": "JNbxb11Hl33O"
      },
      "source": [
        "# Running our model"
      ]
    },
    {
      "cell_type": "code",
      "metadata": {
        "id": "iRhNtsHHbvVU",
        "outputId": "819afcd4-b9c1-4d99-da82-96fcb2e5283c",
        "colab": {
          "base_uri": "https://localhost:8080/",
          "height": 711
        }
      },
      "source": [
        "import tensorflow as tf\n",
        "from tensorflow import keras\n",
        "from tensorflow.keras import layers\n",
        "\n",
        "def createAutomataModel(initializer, name=\"Cellular Automata for ARC\"):\n",
        "    # Free up RAM when creating a model multiple times\n",
        "    keras.backend.clear_session()\n",
        "\n",
        "    input = keras.Input(shape=(None, None, 10 + NUM_COMMUNICATION_CHANNELS))\n",
        "\n",
        "    x = layers.Conv2D(\n",
        "        filters=128,\n",
        "        kernel_size=3,\n",
        "        padding=\"same\",\n",
        "        activation=\"relu\",\n",
        "        kernel_initializer=initializer,\n",
        "        bias_initializer=initializer\n",
        "    )(input)\n",
        "\n",
        "    x = layers.Conv2D(\n",
        "        filters=10 + NUM_COMMUNICATION_CHANNELS,\n",
        "        kernel_size=1,\n",
        "        padding=\"valid\",\n",
        "        activation=None,\n",
        "        kernel_initializer=initializer,\n",
        "        bias_initializer=initializer\n",
        "    )(x)\n",
        "\n",
        "    x = layers.Add()([x, input])\n",
        "\n",
        "    return keras.Model(inputs=input, outputs=x, name=name)\n",
        "\n",
        "# Create a model just to display a summary (it won't be used)\n",
        "initializer = keras.initializers.RandomNormal(mean=0.0, stddev=3e-3, seed=1337)\n",
        "model = createAutomataModel(initializer)\n",
        "model.summary()\n",
        "display(keras.utils.plot_model(model, show_shapes=True))\n"
      ],
      "execution_count": 42,
      "outputs": [
        {
          "output_type": "stream",
          "text": [
            "Model: \"Cellular Automata for ARC\"\n",
            "__________________________________________________________________________________________________\n",
            "Layer (type)                    Output Shape         Param #     Connected to                     \n",
            "==================================================================================================\n",
            "input_1 (InputLayer)            [(None, None, None,  0                                            \n",
            "__________________________________________________________________________________________________\n",
            "conv2d (Conv2D)                 (None, None, None, 1 16256       input_1[0][0]                    \n",
            "__________________________________________________________________________________________________\n",
            "conv2d_1 (Conv2D)               (None, None, None, 1 1806        conv2d[0][0]                     \n",
            "__________________________________________________________________________________________________\n",
            "add (Add)                       (None, None, None, 1 0           conv2d_1[0][0]                   \n",
            "                                                                 input_1[0][0]                    \n",
            "==================================================================================================\n",
            "Total params: 18,062\n",
            "Trainable params: 18,062\n",
            "Non-trainable params: 0\n",
            "__________________________________________________________________________________________________\n"
          ],
          "name": "stdout"
        },
        {
          "output_type": "display_data",
          "data": {
            "image/png": "[encoded data removed]",
            "text/plain": [
              "<IPython.core.display.Image object>"
            ]
          },
          "metadata": {
            "tags": []
          }
        }
      ]
    },
    {
      "cell_type": "code",
      "metadata": {
        "id": "2nqxmmJpegCR"
      },
      "source": [
        "# Custom loss function that ignores arbitrary communication channels\n",
        "def custom_loss(y_true, y_pred):\n",
        "    (a, b, c) = y_true[0].shape\n",
        "    new_y_true = tf.slice(y_true[0], [0, 0, 0], [a, b, 10])\n",
        "    new_y_pred = tf.slice(y_pred[0], [0, 0, 0], [a, b, 10])\n",
        "    # Mean squared error\n",
        "    # return keras.losses.MeanSquaredError()(new_y_true, new_y_pred)\n",
        "    # Cross entropy\n",
        "    # return tf.math.reduce_sum(\n",
        "    #     tf.nn.softmax_cross_entropy_with_logits(labels=new_y_true, logits=new_y_pred))\n",
        "    # Non-mean squared error\n",
        "    return tf.math.reduce_sum(\n",
        "        tf.math.squared_difference(new_y_true, new_y_pred))\n",
        "    \n",
        "def train_one_step(model, train_x, train_y, num_iterations, optimizer):\n",
        "    # The model will be fed its previous predictions on each iteration,\n",
        "    # so we define the first y_pred as the original inputs\n",
        "    # (y_pred is a list and not a numpy array because grid sizes may differ)\n",
        "    y_pred = list(map(lambda x: np.copy(x), train_x))\n",
        "\n",
        "    # Accumulate gradient over all iterations so it can be applied in the end\n",
        "    # (backpropagation through time)\n",
        "    accumulated_gradient = []\n",
        "\n",
        "    for layer in model.trainable_variables:\n",
        "        accumulated_gradient.append(tf.zeros(layer.shape))\n",
        "\n",
        "    # print(\"Training losses:\")\n",
        "\n",
        "    for iteration in range(num_iterations):\n",
        "        avg_gradient = [] # Total gradient over all training examples\n",
        "\n",
        "        for layer in model.trainable_variables:\n",
        "            avg_gradient.append(tf.zeros(layer.shape))\n",
        "\n",
        "        # Feed forward all example grids\n",
        "        for i, grid in enumerate(y_pred):\n",
        "            # Turn input and target grids into batch of 1\n",
        "            input = np.array([grid])\n",
        "            y = np.array([train_y[i]])\n",
        "\n",
        "            with tf.GradientTape() as tape:\n",
        "                out = model(input, training=True)\n",
        "                loss = custom_loss(y, out)\n",
        "                # if iteration == (num_iterations - 1):\n",
        "                #     print(f\"#{i}: {loss}\")\n",
        "\n",
        "            gradient = tape.gradient(loss, model.trainable_variables)\n",
        "            # Replace next input with this step's output\n",
        "            # (index 0 to extract from batch of size 1)\n",
        "            y_pred[i] = np.array(out[0])\n",
        "\n",
        "            for i, layer in enumerate(gradient):\n",
        "                avg_gradient[i] += layer\n",
        "\n",
        "        # Accumulate gradient\n",
        "        for i, layer in enumerate(avg_gradient):\n",
        "            avg_gradient[i] /= len(y_pred)\n",
        "            accumulated_gradient[i] += avg_gradient[i]\n",
        "\n",
        "    # Update weights\n",
        "    optimizer.apply_gradients(zip(accumulated_gradient, model.trainable_variables))\n",
        "\n",
        "def train(model, task, num_iterations, optimizer, max_epochs, display_result=False):\n",
        "    \"\"\"\n",
        "    @param model: The model to be trained\n",
        "    @param task: A vectorized task in the format\n",
        "        { train_x: [], train_y: [], test_x: [], test_y: []}, where the lists\n",
        "        are 3-dimensional.\n",
        "    @param num_iterations: How many times to iterate the grid through the model\n",
        "        before updating the weights.\n",
        "    @param optimizer: The optimizer to use when updating the weights.\n",
        "    @param max_epochs: The maximum number of times the model will be updated\n",
        "        after running the input grid through it `num_iterations` times.\n",
        "        This is a maximum because the model will stop training as soon as it\n",
        "        has solved the test grids correctly.\n",
        "    @return True as soon as the model solves the test grids correctly, otherwise\n",
        "        returns False after training for `max_epochs` epochs.\n",
        "    \"\"\"\n",
        "    print(f\"Training model {model.name} for a max of {max_epochs} epochs, with {num_iterations} iterations per epoch...\")\n",
        "    \n",
        "    for i in range(max_epochs):\n",
        "        # Train model once\n",
        "        train_one_step(model, task[\"train_x\"], task[\"train_y\"], num_iterations, optimizer)\n",
        "        # Check if test grids are completed successfully\n",
        "        success = evaluate(model, task[\"test_x\"], task[\"test_y\"], num_iterations, display_result=display_result)\n",
        "        # Stop training if model is successful\n",
        "        if success: return True\n",
        "    \n",
        "    return False\n",
        "\n",
        "def evaluate(model, test_x, test_y, num_iterations, display_result=False):\n",
        "    \"\"\"\n",
        "    @return True if the model completes the test grids correctly, False otherwise\n",
        "    \"\"\"\n",
        "\n",
        "    # Local copy of input so we can iterate over it\n",
        "    y_pred = np.copy(test_x)\n",
        "\n",
        "    for iteration in range(num_iterations):\n",
        "        for i, grid in enumerate(y_pred):\n",
        "            out = model(np.array([grid]), training=False) # Batch size of 1\n",
        "            y_pred[i] = out[0] # Extract result from batch\n",
        "\n",
        "    if display_result:\n",
        "        print(\"\\nEvaluation result:\")\n",
        "        xs = []\n",
        "        ys = []\n",
        "        for i, grid in enumerate(y_pred):\n",
        "            xs.append(devectorize_grid(test_x[i]))\n",
        "            ys.append(devectorize_grid(test_y[i]))\n",
        "            xs.append(devectorize_grid(test_x[i]))\n",
        "            ys.append(devectorize_grid(grid))\n",
        "        display_grid_pairs(xs, ys)\n",
        "    \n",
        "    # Calculate avg test loss\n",
        "    loss = 0\n",
        "    for i, grid in enumerate(y_pred):\n",
        "        prediction = np.array([grid])\n",
        "        y = np.array([test_y[i]])\n",
        "        loss += custom_loss(y, prediction)\n",
        "    loss /= len(y_pred)\n",
        "    if (display_result):\n",
        "        print(f\"Average test loss: {loss}\")\n",
        "\n",
        "    # Check if test output grid predictions are correct\n",
        "    for i, grid in enumerate(y_pred):\n",
        "        prediction = devectorize_grid(grid)\n",
        "        y = devectorize_grid(test_y[i])\n",
        "        if not np.array_equal(y, prediction):\n",
        "            return False\n",
        "\n",
        "    return True"
      ],
      "execution_count": 40,
      "outputs": []
    },
    {
      "cell_type": "code",
      "metadata": {
        "id": "hmmQZE2kkCnS"
      },
      "source": [
        "# This block runs the Neural Cellular Automata model on all training tasks\n",
        "\n",
        "# Define the number of iterations of the cellular automata rule over the grid\n",
        "# before updating weights (when training) or before calculating loss\n",
        "# (when evaluating)\n",
        "num_iterations = 32\n",
        "\n",
        "optimizer = keras.optimizers.Adam(learning_rate=3e-4)\n",
        "initializer = keras.initializers.RandomNormal(mean=0.0, stddev=1.5e-2, seed=1337)\n",
        "max_epochs = 10\n",
        "\n",
        "solved_count = 0\n",
        "solved_tasks = []\n",
        "\n",
        "for i, task in enumerate(vectorized_tasks):\n",
        "    task_name = task_names[i]\n",
        "    model = createAutomataModel(initializer, name=task_name)\n",
        "    success = train(model, task, num_iterations, optimizer, max_epochs)\n",
        "    evaluate(model, task[\"test_x\"], task[\"test_y\"], num_iterations, display_result=True)\n",
        "    if success:\n",
        "        print(f\"Solved task {task_name} successfully!\")\n",
        "        solved_count += 1\n",
        "        solved_tasks.append(task_name)\n",
        "    else:\n",
        "        print(f\"Failed to solve task {task_name}.\")\n",
        "    print(f\"Attempted {i+1} out of {len(vectorized_tasks)} tasks.\\n\")\n",
        "    print(f\"Solved {solved_count} tasks so far:\")\n",
        "    print(solved_tasks)\n",
        "\n",
        "print(f\"Finished. Solved {solved_count} out of {vectorized_tasks} tasks.\")\n",
        "\n"
      ],
      "execution_count": null,
      "outputs": []
    },
    {
      "cell_type": "code",
      "metadata": {
        "id": "3Qwrqokq5fMA"
      },
      "source": [
        "# This block runs the Neural Cellular Automata model on a single task\n",
        "\n",
        "# Define the number of iterations of the cellular automata rule over the grid\n",
        "# before updating weights (when training) or before calculating loss\n",
        "# (when evaluating)\n",
        "num_iterations = 64\n",
        "\n",
        "optimizer = keras.optimizers.Adam(learning_rate=3e-4)\n",
        "initializer = keras.initializers.RandomNormal(mean=0.0, stddev=1.5e-2, seed=1337)\n",
        "max_epochs = 10000\n",
        "\n",
        "# task = vectorized_tasks[0]\n",
        "# task_name = task_names[0]\n",
        "\n",
        "task_name = \"3ac3eb23.json\"\n",
        "i = task_names.index(task_name)\n",
        "task = vectorized_tasks[i]\n",
        "\n",
        "model = createAutomataModel(initializer, name=task_name)\n",
        "\n",
        "success = train(model, task, num_iterations, optimizer, max_epochs, display_result=True)\n",
        "if success:\n",
        "    print(f\"Solved task {task_name} successfully!\")\n",
        "else:\n",
        "    print(f\"Failed to solve task {task_name}.\")\n"
      ],
      "execution_count": null,
      "outputs": []
    },
    {
      "cell_type": "code",
      "metadata": {
        "id": "hGd17wvDa4A3"
      },
      "source": [
        "!pip install pyyaml h5py  # Required to save models in HDF5 format"
      ],
      "execution_count": null,
      "outputs": []
    },
    {
      "cell_type": "code",
      "metadata": {
        "id": "K7Es2v1fc2Hx"
      },
      "source": [
        "from google.colab import drive\n",
        "drive.mount(\"/content/drive\")"
      ],
      "execution_count": null,
      "outputs": []
    },
    {
      "cell_type": "code",
      "metadata": {
        "id": "GHYYrBckc-bn"
      },
      "source": [
        "model.save(\"\")"
      ],
      "execution_count": null,
      "outputs": []
    },
    {
      "cell_type": "markdown",
      "metadata": {
        "id": "KdqgCXKtyNm2"
      },
      "source": [
        "# Running a baseline convolutional model"
      ]
    },
    {
      "cell_type": "code",
      "metadata": {
        "id": "w5FEO4CTxx_l"
      },
      "source": [
        "def createBaselineModel(initializer, name=\"Baseline Convolutional Model for ARC\"):\n",
        "    input = keras.Input(shape=(None, None, 10 + NUM_COMMUNICATION_CHANNELS))\n",
        "\n",
        "    x = layers.Conv2D(\n",
        "        filters=128,\n",
        "        kernel_size=3,\n",
        "        padding=\"same\",\n",
        "        activation=\"relu\",\n",
        "        kernel_initializer=initializer,\n",
        "        bias_initializer=initializer\n",
        "    )(input)\n",
        "\n",
        "    x = layers.Conv2D(\n",
        "        filters=10 + NUM_COMMUNICATION_CHANNELS,\n",
        "        kernel_size=1,\n",
        "        padding=\"valid\",\n",
        "        activation=None,\n",
        "        kernel_initializer=initializer,\n",
        "        bias_initializer=initializer\n",
        "    )(x)\n",
        "\n",
        "    x = layers.Add()([x, input])\n",
        "\n",
        "    return keras.Model(inputs=input, outputs=x, name=name)\n",
        "\n",
        "# Create a model just to display a summary (it won't be used)\n",
        "initializer = keras.initializers.RandomNormal(mean=0.0, stddev=3e-3, seed=1337)\n",
        "model = createNewModel(initializer)\n",
        "model.summary()\n",
        "display(keras.utils.plot_model(model, show_shapes=True))"
      ],
      "execution_count": null,
      "outputs": []
    }
  ]
}