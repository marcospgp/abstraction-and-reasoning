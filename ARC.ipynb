{
  "nbformat": 4,
  "nbformat_minor": 0,
  "metadata": {
    "colab": {
      "name": "ARC Keras Test.ipynb",
      "provenance": [],
      "collapsed_sections": [],
      "toc_visible": true,
      "authorship_tag": "ABX9TyPh0JcU6D/A0GOmN+2nDb7u"
    },
    "kernelspec": {
      "name": "python3",
      "display_name": "Python 3"
    },
    "accelerator": "GPU"
  },
  "cells": [
    {
      "cell_type": "markdown",
      "metadata": {
        "id": "3YVlsfcJhKF-",
        "colab_type": "text"
      },
      "source": [
        "# ARC Challenge"
      ]
    },
    {
      "cell_type": "code",
      "metadata": {
        "id": "tDZNJwmZ65r3",
        "colab_type": "code",
        "outputId": "57c50e3d-95c1-42eb-ea92-36d266b13267",
        "colab": {
          "base_uri": "https://localhost:8080/",
          "height": 1000
        }
      },
      "source": [
        "!pip install --upgrade --force-reinstall keras"
      ],
      "execution_count": 0,
      "outputs": [
        {
          "output_type": "stream",
          "text": [
            "Collecting keras\n",
            "\u001b[?25l  Downloading https://files.pythonhosted.org/packages/ad/fd/6bfe87920d7f4fd475acd28500a42482b6b84479832bdc0fe9e589a60ceb/Keras-2.3.1-py2.py3-none-any.whl (377kB)\n",
            "\u001b[K     |████████████████████████████████| 378kB 3.5MB/s \n",
            "\u001b[?25hCollecting h5py\n",
            "\u001b[?25l  Downloading https://files.pythonhosted.org/packages/60/06/cafdd44889200e5438b897388f3075b52a8ef01f28a17366d91de0fa2d05/h5py-2.10.0-cp36-cp36m-manylinux1_x86_64.whl (2.9MB)\n",
            "\u001b[K     |████████████████████████████████| 2.9MB 8.1MB/s \n",
            "\u001b[?25hCollecting keras-preprocessing>=1.0.5\n",
            "\u001b[?25l  Downloading https://files.pythonhosted.org/packages/79/4c/7c3275a01e12ef9368a892926ab932b33bb13d55794881e3573482b378a7/Keras_Preprocessing-1.1.2-py2.py3-none-any.whl (42kB)\n",
            "\u001b[K     |████████████████████████████████| 51kB 6.7MB/s \n",
            "\u001b[?25hCollecting six>=1.9.0\n",
            "  Downloading https://files.pythonhosted.org/packages/ee/ff/48bde5c0f013094d729fe4b0316ba2a24774b3ff1c52d924a8a4cb04078a/six-1.15.0-py2.py3-none-any.whl\n",
            "Collecting numpy>=1.9.1\n",
            "\u001b[?25l  Downloading https://files.pythonhosted.org/packages/03/27/e35e7c6e6a52fab9fcc64fc2b20c6b516eba930bb02b10ace3b38200d3ab/numpy-1.18.4-cp36-cp36m-manylinux1_x86_64.whl (20.2MB)\n",
            "\u001b[K     |████████████████████████████████| 20.2MB 1.7MB/s \n",
            "\u001b[?25hCollecting keras-applications>=1.0.6\n",
            "\u001b[?25l  Downloading https://files.pythonhosted.org/packages/71/e3/19762fdfc62877ae9102edf6342d71b28fbfd9dea3d2f96a882ce099b03f/Keras_Applications-1.0.8-py3-none-any.whl (50kB)\n",
            "\u001b[K     |████████████████████████████████| 51kB 5.6MB/s \n",
            "\u001b[?25hCollecting scipy>=0.14\n",
            "\u001b[?25l  Downloading https://files.pythonhosted.org/packages/dc/29/162476fd44203116e7980cfbd9352eef9db37c49445d1fec35509022f6aa/scipy-1.4.1-cp36-cp36m-manylinux1_x86_64.whl (26.1MB)\n",
            "\u001b[K     |████████████████████████████████| 26.1MB 1.7MB/s \n",
            "\u001b[?25hCollecting pyyaml\n",
            "\u001b[?25l  Downloading https://files.pythonhosted.org/packages/64/c2/b80047c7ac2478f9501676c988a5411ed5572f35d1beff9cae07d321512c/PyYAML-5.3.1.tar.gz (269kB)\n",
            "\u001b[K     |████████████████████████████████| 276kB 32.6MB/s \n",
            "\u001b[?25hBuilding wheels for collected packages: pyyaml\n",
            "  Building wheel for pyyaml (setup.py) ... \u001b[?25l\u001b[?25hdone\n",
            "  Created wheel for pyyaml: filename=PyYAML-5.3.1-cp36-cp36m-linux_x86_64.whl size=44621 sha256=d3c91af833d4ad3bb535d6af8549d150092edb3f4b5b7b60a0782cd324285254\n",
            "  Stored in directory: /root/.cache/pip/wheels/a7/c1/ea/cf5bd31012e735dc1dfea3131a2d5eae7978b251083d6247bd\n",
            "Successfully built pyyaml\n",
            "\u001b[31mERROR: google-colab 1.0.0 has requirement six~=1.12.0, but you'll have six 1.15.0 which is incompatible.\u001b[0m\n",
            "\u001b[31mERROR: datascience 0.10.6 has requirement folium==0.2.1, but you'll have folium 0.8.3 which is incompatible.\u001b[0m\n",
            "\u001b[31mERROR: albumentations 0.1.12 has requirement imgaug<0.2.7,>=0.2.5, but you'll have imgaug 0.2.9 which is incompatible.\u001b[0m\n",
            "Installing collected packages: six, numpy, h5py, keras-preprocessing, keras-applications, scipy, pyyaml, keras\n",
            "  Found existing installation: six 1.12.0\n",
            "    Uninstalling six-1.12.0:\n",
            "      Successfully uninstalled six-1.12.0\n",
            "  Found existing installation: numpy 1.18.4\n",
            "    Uninstalling numpy-1.18.4:\n",
            "      Successfully uninstalled numpy-1.18.4\n",
            "  Found existing installation: h5py 2.10.0\n",
            "    Uninstalling h5py-2.10.0:\n",
            "      Successfully uninstalled h5py-2.10.0\n",
            "  Found existing installation: Keras-Preprocessing 1.1.2\n",
            "    Uninstalling Keras-Preprocessing-1.1.2:\n",
            "      Successfully uninstalled Keras-Preprocessing-1.1.2\n",
            "  Found existing installation: Keras-Applications 1.0.8\n",
            "    Uninstalling Keras-Applications-1.0.8:\n",
            "      Successfully uninstalled Keras-Applications-1.0.8\n",
            "  Found existing installation: scipy 1.4.1\n",
            "    Uninstalling scipy-1.4.1:\n",
            "      Successfully uninstalled scipy-1.4.1\n",
            "  Found existing installation: PyYAML 3.13\n",
            "    Uninstalling PyYAML-3.13:\n",
            "      Successfully uninstalled PyYAML-3.13\n",
            "  Found existing installation: Keras 2.3.1\n",
            "    Uninstalling Keras-2.3.1:\n",
            "      Successfully uninstalled Keras-2.3.1\n",
            "Successfully installed h5py-2.10.0 keras-2.3.1 keras-applications-1.0.8 keras-preprocessing-1.1.2 numpy-1.18.4 pyyaml-5.3.1 scipy-1.4.1 six-1.15.0\n"
          ],
          "name": "stdout"
        },
        {
          "output_type": "display_data",
          "data": {
            "application/vnd.colab-display-data+json": {
              "pip_warning": {
                "packages": [
                  "numpy",
                  "six"
                ]
              }
            }
          },
          "metadata": {
            "tags": []
          }
        }
      ]
    },
    {
      "cell_type": "code",
      "metadata": {
        "id": "pz_3yMPVH33C",
        "colab_type": "code",
        "outputId": "2293bd9e-d2cf-4543-9e94-25befd37e6ba",
        "colab": {
          "base_uri": "https://localhost:8080/",
          "height": 238
        }
      },
      "source": [
        "!pip install --upgrade --force-reinstall --no-deps kaggle\n",
        "\n",
        "import os\n",
        "os.environ['KAGGLE_USERNAME'] = \"\"\n",
        "os.environ['KAGGLE_KEY'] = \"\""
      ],
      "execution_count": 0,
      "outputs": [
        {
          "output_type": "stream",
          "text": [
            "Collecting kaggle\n",
            "\u001b[?25l  Downloading https://files.pythonhosted.org/packages/62/ab/bb20f9b9e24f9a6250f95a432f8d9a7d745f8d24039d7a5a6eaadb7783ba/kaggle-1.5.6.tar.gz (58kB)\n",
            "\r\u001b[K     |█████▋                          | 10kB 18.1MB/s eta 0:00:01\r\u001b[K     |███████████▎                    | 20kB 2.2MB/s eta 0:00:01\r\u001b[K     |█████████████████               | 30kB 2.8MB/s eta 0:00:01\r\u001b[K     |██████████████████████▌         | 40kB 3.0MB/s eta 0:00:01\r\u001b[K     |████████████████████████████▏   | 51kB 2.5MB/s eta 0:00:01\r\u001b[K     |████████████████████████████████| 61kB 2.2MB/s \n",
            "\u001b[?25hBuilding wheels for collected packages: kaggle\n",
            "  Building wheel for kaggle (setup.py) ... \u001b[?25l\u001b[?25hdone\n",
            "  Created wheel for kaggle: filename=kaggle-1.5.6-cp36-none-any.whl size=72859 sha256=35344a668c734a4f3d7c0852898b0562b313964bbaac3c614cd443ebc04b1a96\n",
            "  Stored in directory: /root/.cache/pip/wheels/57/4e/e8/bb28d035162fb8f17f8ca5d42c3230e284c6aa565b42b72674\n",
            "Successfully built kaggle\n",
            "Installing collected packages: kaggle\n",
            "  Found existing installation: kaggle 1.5.6\n",
            "    Uninstalling kaggle-1.5.6:\n",
            "      Successfully uninstalled kaggle-1.5.6\n",
            "Successfully installed kaggle-1.5.6\n"
          ],
          "name": "stdout"
        }
      ]
    },
    {
      "cell_type": "code",
      "metadata": {
        "id": "fDdlX39hHi7j",
        "colab_type": "code",
        "outputId": "ed7a0f4f-2a29-470c-bde2-895927a33433",
        "colab": {
          "base_uri": "https://localhost:8080/",
          "height": 34
        }
      },
      "source": [
        "%mkdir \"arc-challenge\"\n",
        "%cd arc-challenge"
      ],
      "execution_count": 0,
      "outputs": [
        {
          "output_type": "stream",
          "text": [
            "/content/arc-challenge\n"
          ],
          "name": "stdout"
        }
      ]
    },
    {
      "cell_type": "code",
      "metadata": {
        "id": "djMmslA0IeNf",
        "colab_type": "code",
        "outputId": "d4774981-adcc-4b0c-8f9f-6858244867e8",
        "colab": {
          "base_uri": "https://localhost:8080/",
          "height": 68
        }
      },
      "source": [
        "!kaggle competitions download -c abstraction-and-reasoning-challenge\n",
        "\n",
        "# -o means force overwrite. The pipe is to silence output, it's noisy.\n",
        "# Remove .zip when done\n",
        "!unzip -o abstraction-and-reasoning-challenge &> /dev/null && rm *.zip"
      ],
      "execution_count": 0,
      "outputs": [
        {
          "output_type": "stream",
          "text": [
            "Downloading abstraction-and-reasoning-challenge.zip to /content/arc-challenge\n",
            "\r  0% 0.00/508k [00:00<?, ?B/s]\n",
            "\r100% 508k/508k [00:00<00:00, 91.4MB/s]\n"
          ],
          "name": "stdout"
        }
      ]
    },
    {
      "cell_type": "code",
      "metadata": {
        "id": "el6uz1Q-YQtm",
        "colab_type": "code",
        "outputId": "81831494-9a09-4c4b-90d1-6fa9d5b88941",
        "colab": {
          "base_uri": "https://localhost:8080/",
          "height": 51
        }
      },
      "source": [
        "print(\"Directory contents:\");\n",
        "%ls"
      ],
      "execution_count": 0,
      "outputs": [
        {
          "output_type": "stream",
          "text": [
            "Directory contents:\n",
            "\u001b[0m\u001b[01;34mevaluation\u001b[0m/  sample_submission.csv  \u001b[01;34mtest\u001b[0m/  \u001b[01;34mtraining\u001b[0m/\n"
          ],
          "name": "stdout"
        }
      ]
    },
    {
      "cell_type": "code",
      "metadata": {
        "id": "XB-I6ibNa_rY",
        "colab_type": "code",
        "outputId": "cdf0d394-64d6-402e-c8bf-b6b6e2c69f50",
        "colab": {
          "base_uri": "https://localhost:8080/",
          "height": 34
        }
      },
      "source": [
        "training_tasks = sorted(os.listdir(\"./training\"))\n",
        "print(training_tasks[:3])"
      ],
      "execution_count": 0,
      "outputs": [
        {
          "output_type": "stream",
          "text": [
            "['007bbfb7.json', '00d62c1b.json', '017c7c7b.json']\n"
          ],
          "name": "stdout"
        }
      ]
    },
    {
      "cell_type": "markdown",
      "metadata": {
        "id": "5rEZedHKbgwy",
        "colab_type": "text"
      },
      "source": [
        "In each task, there are two dictionary keys, train and test. You learn the pattern from the train input-output pairs, and then apply the pattern to the test input, to predict an output."
      ]
    },
    {
      "cell_type": "code",
      "metadata": {
        "id": "bJnOPo4nbhiK",
        "colab_type": "code",
        "outputId": "ed111158-8f75-4517-b597-97edec23050a",
        "colab": {
          "base_uri": "https://localhost:8080/",
          "height": 34
        }
      },
      "source": [
        "import json\n",
        "\n",
        "task_file = \"./training/00d62c1b.json\"\n",
        "\n",
        "with open(task_file, 'r') as f:\n",
        "    task = json.load(f)\n",
        "\n",
        "print(task.keys())"
      ],
      "execution_count": 0,
      "outputs": [
        {
          "output_type": "stream",
          "text": [
            "dict_keys(['train', 'test'])\n"
          ],
          "name": "stdout"
        }
      ]
    },
    {
      "cell_type": "markdown",
      "metadata": {
        "id": "YGu0I3Elf0zJ",
        "colab_type": "text"
      },
      "source": [
        "Tasks have multiple train input-output pairs. Most tasks have a single test input-output pair, although some have more than one."
      ]
    },
    {
      "cell_type": "code",
      "metadata": {
        "id": "MnpiNekXf2RQ",
        "colab_type": "code",
        "outputId": "3a83ca56-35c5-4dca-c2a8-fe9f56e08c06",
        "colab": {
          "base_uri": "https://localhost:8080/",
          "height": 51
        }
      },
      "source": [
        "n_train_pairs = len(task['train'])\n",
        "n_test_pairs = len(task['test'])\n",
        "\n",
        "print(f'task contains {n_train_pairs} training pairs')\n",
        "print(f'task contains {n_test_pairs} test pairs')"
      ],
      "execution_count": 0,
      "outputs": [
        {
          "output_type": "stream",
          "text": [
            "task contains 5 training pairs\n",
            "task contains 1 test pairs\n"
          ],
          "name": "stdout"
        }
      ]
    },
    {
      "cell_type": "markdown",
      "metadata": {
        "id": "7Li6_sINf6hm",
        "colab_type": "text"
      },
      "source": [
        "Drilling into the first train input-output pair, we can see the grids are expressed as 2d lists with integers 0-9."
      ]
    },
    {
      "cell_type": "code",
      "metadata": {
        "id": "s9VnvhKaf66C",
        "colab_type": "code",
        "outputId": "b1eff2ca-1384-4529-f87c-21fa8458a631",
        "colab": {
          "base_uri": "https://localhost:8080/",
          "height": 221
        }
      },
      "source": [
        "display(task['train'][0]['input'])\n",
        "display(task['train'][0]['output'])"
      ],
      "execution_count": 0,
      "outputs": [
        {
          "output_type": "display_data",
          "data": {
            "text/plain": [
              "[[0, 0, 0, 0, 0, 0],\n",
              " [0, 0, 3, 0, 0, 0],\n",
              " [0, 3, 0, 3, 0, 0],\n",
              " [0, 0, 3, 0, 3, 0],\n",
              " [0, 0, 0, 3, 0, 0],\n",
              " [0, 0, 0, 0, 0, 0]]"
            ]
          },
          "metadata": {
            "tags": []
          }
        },
        {
          "output_type": "display_data",
          "data": {
            "text/plain": [
              "[[0, 0, 0, 0, 0, 0],\n",
              " [0, 0, 3, 0, 0, 0],\n",
              " [0, 3, 4, 3, 0, 0],\n",
              " [0, 0, 3, 4, 3, 0],\n",
              " [0, 0, 0, 3, 0, 0],\n",
              " [0, 0, 0, 0, 0, 0]]"
            ]
          },
          "metadata": {
            "tags": []
          }
        }
      ]
    },
    {
      "cell_type": "markdown",
      "metadata": {
        "id": "kBa16SnNMwxt",
        "colab_type": "text"
      },
      "source": [
        "We can see below that no grid is larger than 30x30:"
      ]
    },
    {
      "cell_type": "code",
      "metadata": {
        "id": "WFRxogDIHw-5",
        "colab_type": "code",
        "outputId": "aeadcba7-22e0-455b-b08a-f3e325534111",
        "colab": {
          "base_uri": "https://localhost:8080/",
          "height": 1000
        }
      },
      "source": [
        "grid_sizes = []\n",
        "\n",
        "for task_file in training_tasks:\n",
        "  with open(f\"./training/{task_file}\", 'r') as f:\n",
        "    t = json.load(f)\n",
        "  grid = t[\"train\"][0][\"input\"]\n",
        "  grid_sizes.append((len(grid), len(grid[0])))\n",
        "\n",
        "from collections import Counter\n",
        "Counter(grid_sizes)\n"
      ],
      "execution_count": 0,
      "outputs": [
        {
          "output_type": "execute_result",
          "data": {
            "text/plain": [
              "Counter({(1, 5): 1,\n",
              "         (1, 6): 1,\n",
              "         (2, 2): 2,\n",
              "         (2, 4): 1,\n",
              "         (2, 6): 1,\n",
              "         (3, 2): 1,\n",
              "         (3, 3): 49,\n",
              "         (3, 4): 3,\n",
              "         (3, 5): 1,\n",
              "         (3, 6): 3,\n",
              "         (3, 7): 1,\n",
              "         (3, 9): 2,\n",
              "         (3, 10): 3,\n",
              "         (3, 11): 2,\n",
              "         (3, 17): 1,\n",
              "         (3, 30): 1,\n",
              "         (4, 4): 3,\n",
              "         (4, 7): 1,\n",
              "         (4, 8): 1,\n",
              "         (4, 14): 2,\n",
              "         (4, 16): 1,\n",
              "         (5, 5): 14,\n",
              "         (5, 6): 1,\n",
              "         (5, 7): 4,\n",
              "         (5, 9): 1,\n",
              "         (5, 10): 1,\n",
              "         (5, 11): 1,\n",
              "         (5, 15): 1,\n",
              "         (6, 3): 2,\n",
              "         (6, 6): 9,\n",
              "         (6, 9): 1,\n",
              "         (6, 10): 2,\n",
              "         (7, 7): 7,\n",
              "         (7, 9): 1,\n",
              "         (7, 13): 3,\n",
              "         (8, 3): 1,\n",
              "         (8, 4): 1,\n",
              "         (8, 8): 6,\n",
              "         (8, 30): 1,\n",
              "         (9, 3): 2,\n",
              "         (9, 4): 3,\n",
              "         (9, 9): 20,\n",
              "         (9, 11): 2,\n",
              "         (9, 12): 1,\n",
              "         (9, 13): 2,\n",
              "         (10, 2): 2,\n",
              "         (10, 3): 1,\n",
              "         (10, 4): 1,\n",
              "         (10, 7): 1,\n",
              "         (10, 8): 2,\n",
              "         (10, 9): 2,\n",
              "         (10, 10): 70,\n",
              "         (10, 12): 2,\n",
              "         (10, 15): 4,\n",
              "         (10, 25): 1,\n",
              "         (11, 11): 9,\n",
              "         (11, 22): 1,\n",
              "         (11, 24): 1,\n",
              "         (12, 11): 2,\n",
              "         (12, 12): 9,\n",
              "         (12, 13): 2,\n",
              "         (12, 14): 1,\n",
              "         (12, 19): 2,\n",
              "         (13, 5): 1,\n",
              "         (13, 13): 12,\n",
              "         (13, 14): 1,\n",
              "         (13, 15): 1,\n",
              "         (13, 17): 2,\n",
              "         (13, 22): 1,\n",
              "         (14, 9): 2,\n",
              "         (14, 10): 2,\n",
              "         (14, 12): 1,\n",
              "         (14, 14): 5,\n",
              "         (14, 16): 1,\n",
              "         (14, 18): 1,\n",
              "         (15, 10): 1,\n",
              "         (15, 13): 1,\n",
              "         (15, 15): 11,\n",
              "         (15, 16): 1,\n",
              "         (15, 18): 1,\n",
              "         (15, 19): 2,\n",
              "         (16, 10): 1,\n",
              "         (16, 11): 1,\n",
              "         (16, 12): 1,\n",
              "         (16, 16): 6,\n",
              "         (16, 18): 1,\n",
              "         (17, 12): 1,\n",
              "         (17, 13): 1,\n",
              "         (17, 14): 1,\n",
              "         (17, 17): 4,\n",
              "         (17, 18): 1,\n",
              "         (17, 23): 1,\n",
              "         (18, 13): 1,\n",
              "         (18, 15): 1,\n",
              "         (18, 16): 1,\n",
              "         (18, 18): 2,\n",
              "         (18, 19): 2,\n",
              "         (18, 21): 1,\n",
              "         (19, 8): 1,\n",
              "         (19, 12): 1,\n",
              "         (19, 13): 1,\n",
              "         (19, 19): 3,\n",
              "         (19, 21): 1,\n",
              "         (20, 19): 1,\n",
              "         (20, 20): 7,\n",
              "         (20, 22): 1,\n",
              "         (20, 24): 1,\n",
              "         (20, 30): 1,\n",
              "         (21, 21): 6,\n",
              "         (22, 22): 1,\n",
              "         (23, 21): 1,\n",
              "         (23, 23): 3,\n",
              "         (23, 27): 1,\n",
              "         (24, 19): 1,\n",
              "         (24, 24): 4,\n",
              "         (27, 21): 1,\n",
              "         (29, 29): 2,\n",
              "         (30, 17): 1,\n",
              "         (30, 20): 1,\n",
              "         (30, 30): 5})"
            ]
          },
          "metadata": {
            "tags": []
          },
          "execution_count": 10
        }
      ]
    },
    {
      "cell_type": "markdown",
      "metadata": {
        "id": "rL_EIRwsf-uh",
        "colab_type": "text"
      },
      "source": [
        "# Function to plot the first train/test input/output pairs of a task\n",
        "\n",
        "You can use this function to plot the first train and test grids. The color aligns with what is found on the ARC app. Note though, the ARC app presents the grids to scale, where these display the grids in the same size, regardless of their dimension."
      ]
    },
    {
      "cell_type": "code",
      "metadata": {
        "id": "nmvlD4mzgcYE",
        "colab_type": "code",
        "colab": {}
      },
      "source": [
        "import matplotlib.pyplot as plt\n",
        "from matplotlib import colors\n",
        "\n",
        "def plot_task(task):\n",
        "    \"\"\"\n",
        "    Plots the first train and test pairs of a specified task,\n",
        "    using same color scheme as the ARC app\n",
        "    \"\"\"\n",
        "    cmap = colors.ListedColormap(\n",
        "        ['#000000', '#0074D9','#FF4136','#2ECC40','#FFDC00',\n",
        "         '#AAAAAA', '#F012BE', '#FF851B', '#7FDBFF', '#870C25'])\n",
        "    norm = colors.Normalize(vmin=0, vmax=9)\n",
        "    fig, axs = plt.subplots(1, 4, figsize=(15,15))\n",
        "    axs[0].imshow(task['train'][0]['input'], cmap=cmap, norm=norm)\n",
        "    axs[0].axis('off')\n",
        "    axs[0].set_title('Train Input')\n",
        "    axs[1].imshow(task['train'][0]['output'], cmap=cmap, norm=norm)\n",
        "    axs[1].axis('off')\n",
        "    axs[1].set_title('Train Output')\n",
        "    axs[2].imshow(task['test'][0]['input'], cmap=cmap, norm=norm)\n",
        "    axs[2].axis('off')\n",
        "    axs[2].set_title('Test Input')\n",
        "    axs[3].imshow(task['test'][0]['output'], cmap=cmap, norm=norm)\n",
        "    axs[3].axis('off')\n",
        "    axs[3].set_title('Test Output')\n",
        "    plt.tight_layout()\n",
        "    plt.show()"
      ],
      "execution_count": 0,
      "outputs": []
    },
    {
      "cell_type": "code",
      "metadata": {
        "id": "4ag0nLYYgmCv",
        "colab_type": "code",
        "outputId": "ac149f6e-442a-4f1a-9c52-48cde1fbd162",
        "colab": {
          "base_uri": "https://localhost:8080/",
          "height": 303
        }
      },
      "source": [
        "plot_task(task)"
      ],
      "execution_count": 0,
      "outputs": [
        {
          "output_type": "display_data",
          "data": {
            "image/png": "[encoded data removed]",
            "text/plain": [
              "<Figure size 1080x1080 with 4 Axes>"
            ]
          },
          "metadata": {
            "tags": [],
            "needs_background": "light"
          }
        }
      ]
    },
    {
      "cell_type": "markdown",
      "metadata": {
        "id": "cxQYstt8iIsh",
        "colab_type": "text"
      },
      "source": [
        "# Using the correct prediction format"
      ]
    },
    {
      "cell_type": "code",
      "metadata": {
        "id": "-aK-YgHziHrI",
        "colab_type": "code",
        "outputId": "32fe3d2c-0620-412f-e90b-a819d32c0d5c",
        "colab": {
          "base_uri": "https://localhost:8080/",
          "height": 235
        }
      },
      "source": [
        "import pandas\n",
        "\n",
        "submission = pandas.read_csv(\"sample_submission.csv\", index_col=\"output_id\")\n",
        "display(submission.head())"
      ],
      "execution_count": 0,
      "outputs": [
        {
          "output_type": "display_data",
          "data": {
            "text/html": [
              "<div>\n",
              "<style scoped>\n",
              "    .dataframe tbody tr th:only-of-type {\n",
              "        vertical-align: middle;\n",
              "    }\n",
              "\n",
              "    .dataframe tbody tr th {\n",
              "        vertical-align: top;\n",
              "    }\n",
              "\n",
              "    .dataframe thead th {\n",
              "        text-align: right;\n",
              "    }\n",
              "</style>\n",
              "<table border=\"1\" class=\"dataframe\">\n",
              "  <thead>\n",
              "    <tr style=\"text-align: right;\">\n",
              "      <th></th>\n",
              "      <th>output</th>\n",
              "    </tr>\n",
              "    <tr>\n",
              "      <th>output_id</th>\n",
              "      <th></th>\n",
              "    </tr>\n",
              "  </thead>\n",
              "  <tbody>\n",
              "    <tr>\n",
              "      <th>00576224_0</th>\n",
              "      <td>|32|78| |32|78| |00|00|</td>\n",
              "    </tr>\n",
              "    <tr>\n",
              "      <th>009d5c81_0</th>\n",
              "      <td>|00000000000000|00000888888888|00000800080808|...</td>\n",
              "    </tr>\n",
              "    <tr>\n",
              "      <th>00dbd492_0</th>\n",
              "      <td>|00000000000222220000|02222222220200020000|020...</td>\n",
              "    </tr>\n",
              "    <tr>\n",
              "      <th>03560426_0</th>\n",
              "      <td>|0000000000|0000000000|0000000000|0000000000|0...</td>\n",
              "    </tr>\n",
              "    <tr>\n",
              "      <th>05a7bcf2_0</th>\n",
              "      <td>|000000000020000000080000000000|00000000002220...</td>\n",
              "    </tr>\n",
              "  </tbody>\n",
              "</table>\n",
              "</div>"
            ],
            "text/plain": [
              "                                                       output\n",
              "output_id                                                    \n",
              "00576224_0                           |32|78| |32|78| |00|00| \n",
              "009d5c81_0  |00000000000000|00000888888888|00000800080808|...\n",
              "00dbd492_0  |00000000000222220000|02222222220200020000|020...\n",
              "03560426_0  |0000000000|0000000000|0000000000|0000000000|0...\n",
              "05a7bcf2_0  |000000000020000000080000000000|00000000002220..."
            ]
          },
          "metadata": {
            "tags": []
          }
        }
      ]
    },
    {
      "cell_type": "markdown",
      "metadata": {
        "id": "HD0bcjtuj5pT",
        "colab_type": "text"
      },
      "source": [
        "The output_id is the id of the task, followed by the index of the test input that you should use to make your prediction. The output is the predicted output of the corresponding test input, reformatted into a string representation. (You can make three predictions per output_id, delineated by a space.) Use the following function to convert from a 2d python list to the string representation."
      ]
    },
    {
      "cell_type": "code",
      "metadata": {
        "id": "svgO70vGj54Z",
        "colab_type": "code",
        "colab": {}
      },
      "source": [
        "def flattener(pred):\n",
        "    str_pred = str([row for row in pred])\n",
        "    str_pred = str_pred.replace(', ', '')\n",
        "    str_pred = str_pred.replace('[[', '|')\n",
        "    str_pred = str_pred.replace('][', '|')\n",
        "    str_pred = str_pred.replace(']]', '|')\n",
        "    return str_pred"
      ],
      "execution_count": 0,
      "outputs": []
    },
    {
      "cell_type": "code",
      "metadata": {
        "id": "Puy17Tw3j-Qa",
        "colab_type": "code",
        "outputId": "57444410-eab4-48f0-93dd-c0f012cefc19",
        "colab": {
          "base_uri": "https://localhost:8080/",
          "height": 51
        }
      },
      "source": [
        "example_grid = [[1, 2, 3], [4, 5, 6], [7, 8, 9]]\n",
        "display(example_grid)\n",
        "print(flattener(example_grid))"
      ],
      "execution_count": 0,
      "outputs": [
        {
          "output_type": "display_data",
          "data": {
            "text/plain": [
              "[[1, 2, 3], [4, 5, 6], [7, 8, 9]]"
            ]
          },
          "metadata": {
            "tags": []
          }
        },
        {
          "output_type": "stream",
          "text": [
            "|123|456|789|\n"
          ],
          "name": "stdout"
        }
      ]
    },
    {
      "cell_type": "markdown",
      "metadata": {
        "id": "V1hcNDHOk71E",
        "colab_type": "text"
      },
      "source": [
        "# Re-creating the sample submission output\n",
        "\n",
        "This demonstrates how to loop over the sample submission and make predictions."
      ]
    },
    {
      "cell_type": "code",
      "metadata": {
        "id": "zOs9sqNIlADU",
        "colab_type": "code",
        "outputId": "3e2dce9c-4bd6-46e2-ee89-0fbdc0aecc60",
        "colab": {
          "base_uri": "https://localhost:8080/",
          "height": 235
        }
      },
      "source": [
        "for output_id in submission.index:\n",
        "    task_id = output_id.split('_')[0]\n",
        "    pair_id = int(output_id.split('_')[1])\n",
        "    f = str(f\"test/{task_id}.json\")\n",
        "    with open(f, 'r') as read_file:\n",
        "        task = json.load(read_file)\n",
        "    # skipping over the training examples, since this will be naive predictions\n",
        "    # we will use the test input grid as the base, and make some modifications\n",
        "    data = task['test'][pair_id]['input'] # test pair input\n",
        "    # for the first guess, predict that output is unchanged\n",
        "    pred_1 = flattener(data)\n",
        "    # for the second guess, change all 0s to 5s\n",
        "    data = [[5 if i==0 else i for i in j] for j in data]\n",
        "    pred_2 = flattener(data)\n",
        "    # for the last guess, change everything to 0\n",
        "    data = [[0 for i in j] for j in data]\n",
        "    pred_3 = flattener(data)\n",
        "    # concatenate and add to the submission output\n",
        "    pred = pred_1 + ' ' + pred_2 + ' ' + pred_3 + ' ' \n",
        "    submission.loc[output_id, 'output'] = pred\n",
        "\n",
        "submission.to_csv('submission.csv')\n",
        "\n",
        "samplecsv = pandas.read_csv(\"sample_submission.csv\", index_col=\"output_id\")\n",
        "display(samplecsv.head())"
      ],
      "execution_count": 0,
      "outputs": [
        {
          "output_type": "display_data",
          "data": {
            "text/html": [
              "<div>\n",
              "<style scoped>\n",
              "    .dataframe tbody tr th:only-of-type {\n",
              "        vertical-align: middle;\n",
              "    }\n",
              "\n",
              "    .dataframe tbody tr th {\n",
              "        vertical-align: top;\n",
              "    }\n",
              "\n",
              "    .dataframe thead th {\n",
              "        text-align: right;\n",
              "    }\n",
              "</style>\n",
              "<table border=\"1\" class=\"dataframe\">\n",
              "  <thead>\n",
              "    <tr style=\"text-align: right;\">\n",
              "      <th></th>\n",
              "      <th>output</th>\n",
              "    </tr>\n",
              "    <tr>\n",
              "      <th>output_id</th>\n",
              "      <th></th>\n",
              "    </tr>\n",
              "  </thead>\n",
              "  <tbody>\n",
              "    <tr>\n",
              "      <th>00576224_0</th>\n",
              "      <td>|32|78| |32|78| |00|00|</td>\n",
              "    </tr>\n",
              "    <tr>\n",
              "      <th>009d5c81_0</th>\n",
              "      <td>|00000000000000|00000888888888|00000800080808|...</td>\n",
              "    </tr>\n",
              "    <tr>\n",
              "      <th>00dbd492_0</th>\n",
              "      <td>|00000000000222220000|02222222220200020000|020...</td>\n",
              "    </tr>\n",
              "    <tr>\n",
              "      <th>03560426_0</th>\n",
              "      <td>|0000000000|0000000000|0000000000|0000000000|0...</td>\n",
              "    </tr>\n",
              "    <tr>\n",
              "      <th>05a7bcf2_0</th>\n",
              "      <td>|000000000020000000080000000000|00000000002220...</td>\n",
              "    </tr>\n",
              "  </tbody>\n",
              "</table>\n",
              "</div>"
            ],
            "text/plain": [
              "                                                       output\n",
              "output_id                                                    \n",
              "00576224_0                           |32|78| |32|78| |00|00| \n",
              "009d5c81_0  |00000000000000|00000888888888|00000800080808|...\n",
              "00dbd492_0  |00000000000222220000|02222222220200020000|020...\n",
              "03560426_0  |0000000000|0000000000|0000000000|0000000000|0...\n",
              "05a7bcf2_0  |000000000020000000080000000000|00000000002220..."
            ]
          },
          "metadata": {
            "tags": []
          }
        }
      ]
    },
    {
      "cell_type": "markdown",
      "metadata": {
        "id": "bGmof_EG7tl4",
        "colab_type": "text"
      },
      "source": [
        "# Vectorizing data"
      ]
    },
    {
      "cell_type": "code",
      "metadata": {
        "id": "xL4fwC--7smm",
        "colab_type": "code",
        "outputId": "8f4cccbc-e800-4f06-ebba-024d37d9c38e",
        "colab": {
          "base_uri": "https://localhost:8080/",
          "height": 34
        }
      },
      "source": [
        "import os\n",
        "import json\n",
        "import random\n",
        "from functools import reduce\n",
        "import tensorflow as tf\n",
        "from tensorflow import keras\n",
        "import numpy as np\n",
        "\n",
        "# Our vocabulary is:\n",
        "#   0-9: colors\n",
        "#   10: new line\n",
        "#   11: \"leads to\", or \"equals\" (marks end of input and signals incoming output)\n",
        "#   12: end of input/output example (marks end of output)\n",
        "#   13: padding (& masking for LSTM layers)\n",
        "# which gives us a total of 14 classes:\n",
        "num_classes = 14\n",
        "padding_char = 13\n",
        "\n",
        "# flattens a grid from 2D to a 1D list, introducing newlines (using word 10)\n",
        "def grid_to_line(grid):\n",
        "  return reduce(lambda prev, cur: prev + [*cur] + [10], grid, [])\n",
        "\n",
        "def load_json_from_file(file):\n",
        "  with open(file, \"r\") as f:\n",
        "    return json.load(f)\n",
        "\n",
        "# extracts grids from json data, duplicating training grids for each test grid\n",
        "def extract_grids(files_json):\n",
        "  test_inputs = []\n",
        "  test_outputs = []\n",
        "  train_examples = []\n",
        "  for obj in files_json:\n",
        "    for grid in obj[\"test\"]:\n",
        "      test_inputs.append(grid[\"input\"])\n",
        "      if \"output\" in grid: # test grids may not have output\n",
        "        test_outputs.append(grid[\"output\"])\n",
        "      # duplicate training grids for each test grid\n",
        "      train_examples.append([])\n",
        "      for grid in obj[\"train\"]:\n",
        "        train_examples[-1].extend([grid[\"input\"], grid[\"output\"]])\n",
        "  return test_inputs, test_outputs, train_examples\n",
        "\n",
        "# receives the path to a folder with .json task files\n",
        "def get_shuffled_files(path_to_folder):\n",
        "  files = sorted(os.listdir(path_to_folder))\n",
        "  return random.sample(files, len(files))\n",
        "\n",
        "# turns a 2D grid into a one hot encoded numpy 2D array\n",
        "def vectorize_grid(grid, is_input=False, is_output=False, pad=True):\n",
        "  \"\"\"\n",
        "    grid: n by n 2D list with elements going from 0-9, representing colors.\n",
        "          (original grid format in json files)\n",
        "    is_input and is_output: used to indicate whether the grid should\n",
        "                            terminate with an \"end of example\" character\n",
        "                            or a \"leads to\" character.\n",
        "    pad: specifies whether the grid should be padded to max length\n",
        "  \"\"\"\n",
        "  if is_input == is_output:\n",
        "    raise Exception(\"Invalid input/output flag for vectorizing grid\")\n",
        "  \n",
        "  # grid to line\n",
        "  if (is_input):\n",
        "    grid = grid_to_line(grid) + [11]\n",
        "  else:\n",
        "    grid = grid_to_line(grid) + [12]\n",
        "  \n",
        "  if (pad):\n",
        "    # pad the grids to max size (30x30 + 30 newlines + termination char = 931)\n",
        "    grid = grid + [13] * (931 - len(grid))\n",
        "\n",
        "  # one hot encode grid (num_classes should be defined at start of this cell)\n",
        "  grid = keras.utils.to_categorical(grid, num_classes=num_classes)\n",
        "\n",
        "  return np.array(grid)\n",
        "\n",
        "# Loads tasks from a given folder or a single task from a single file\n",
        "def load_tasks(path_to_folder=None, path_to_file=None):\n",
        "  if (\n",
        "    not path_to_folder and not path_to_file\n",
        "  ) or (\n",
        "    path_to_folder and path_to_file\n",
        "  ):\n",
        "    raise Exception(\"Invalid arguments\")\n",
        "\n",
        "  if path_to_folder:\n",
        "    # get list of files in target folder, shuffling their order\n",
        "    files = get_shuffled_files(path_to_folder)\n",
        "    # turn file names into file paths\n",
        "    file_paths = map(lambda x: os.path.join(path_to_folder, x), files)\n",
        "  else:\n",
        "    file_paths = [path_to_file]\n",
        "\n",
        "  # load file contents into a list\n",
        "  files_json = []\n",
        "  for p in file_paths:\n",
        "    files_json.append(load_json_from_file(p))\n",
        "  \n",
        "  # expand json so that every test grid of a task defines one input for the\n",
        "  # model. train_examples are sequences of input/outputs ([input, output, ...])\n",
        "  test_inputs, test_outputs, train_examples = extract_grids(files_json)\n",
        "\n",
        "  # vectorize grids\n",
        "  for i, grid in enumerate(test_inputs):\n",
        "    test_inputs[i] = vectorize_grid(grid, is_input=True)\n",
        "  for i, grid in enumerate(test_outputs):\n",
        "    test_outputs[i] = vectorize_grid(grid, is_output=True)\n",
        "  for i, grids in enumerate(train_examples):\n",
        "    for j, grid in enumerate(grids):\n",
        "      if j % 2 == 0:\n",
        "        train_examples[i][j] = vectorize_grid(grid, is_input=True, pad=False)\n",
        "      else:\n",
        "        train_examples[i][j] = vectorize_grid(grid, is_output=True, pad=False)\n",
        "\n",
        "  # We do not pad the train example grids above because we want to flatten them\n",
        "  # now, so all examples for a given test grid are in one line\n",
        "  train_examples = list(map(lambda x: reduce(lambda prev, cur: [*prev, *cur], x, []), train_examples))\n",
        "\n",
        "  # Now pad the training grids manually, taking into account the grids are\n",
        "  # one hot encoded already\n",
        "  max_length = max(map(lambda x: len(x), train_examples))\n",
        "  padding_vector = keras.utils.to_categorical(padding_char, num_classes=num_classes)\n",
        "  for x in train_examples:\n",
        "    while len(x) < max_length:\n",
        "      x.append(padding_vector)\n",
        "\n",
        "  # convert to numpy arrays\n",
        "  test_inputs = np.array(test_inputs)\n",
        "  test_outputs = np.array(test_outputs)\n",
        "  train_examples = np.array(train_examples)\n",
        "\n",
        "  return test_inputs, test_outputs, train_examples\n",
        "\n",
        "test_inputs, test_outputs, train_examples = load_tasks(path_to_folder=\"./training\")\n",
        "\n",
        "print(f\"total training tasks: {len(test_inputs)}\")\n",
        "# print(\"Final grid format:\")\n",
        "# display(test_inputs[0])\n",
        "# display(train_examples[0])"
      ],
      "execution_count": 0,
      "outputs": [
        {
          "output_type": "stream",
          "text": [
            "total training tasks: 416\n"
          ],
          "name": "stdout"
        }
      ]
    },
    {
      "cell_type": "code",
      "metadata": {
        "id": "xyMRXf72fuMt",
        "colab_type": "code",
        "colab": {}
      },
      "source": [
        "import matplotlib.pyplot as plt\n",
        "from matplotlib import colors\n",
        "\n",
        "# Helper function that plots an arbitrary number of grids, horizontally\n",
        "def plot_grids(*args):\n",
        "    # Add white to end of color map to represent empty space, for padding\n",
        "    # the model's predictions\n",
        "    cmap = colors.ListedColormap(\n",
        "        ['#000000', '#0074D9','#FF4136','#2ECC40','#FFDC00',\n",
        "         '#AAAAAA', '#F012BE', '#FF851B', '#7FDBFF', '#870C25', '#FFF'])\n",
        "    norm = colors.Normalize(vmin=0, vmax=9)\n",
        "    fig, axs = plt.subplots(1, len(args), figsize=(4 * len(args), 4))\n",
        "    if len(args) == 1:\n",
        "      axs.imshow(args[0], cmap=cmap, norm=norm)\n",
        "      axs.axis('off')\n",
        "    else:\n",
        "      for i, grid in enumerate(args):\n",
        "        axs[i].imshow(grid, cmap=cmap, norm=norm)\n",
        "        axs[i].axis('off')\n",
        "    plt.show()"
      ],
      "execution_count": 0,
      "outputs": []
    },
    {
      "cell_type": "markdown",
      "metadata": {
        "id": "JNbxb11Hl33O",
        "colab_type": "text"
      },
      "source": [
        "# Building a model"
      ]
    },
    {
      "cell_type": "code",
      "metadata": {
        "id": "m68eI5kTLBFo",
        "colab_type": "code",
        "outputId": "34468887-73ab-4a57-de80-9ea37acb50f8",
        "colab": {
          "base_uri": "https://localhost:8080/",
          "height": 68
        }
      },
      "source": [
        "# Let's see what our input shapes look like.\n",
        "# - Each pixel is a 1D array of length 13\n",
        "# - Each grid is a 2D array of length 931 (padded to max grid size)\n",
        "\n",
        "print(f\"test input shape: {test_inputs.shape}\")\n",
        "print(f\"test output shape: {test_outputs.shape}\")\n",
        "print(f\"train examples shape: {train_examples.shape}\")"
      ],
      "execution_count": 0,
      "outputs": [
        {
          "output_type": "stream",
          "text": [
            "test input shape: (416, 931, 14)\n",
            "test output shape: (416, 931, 14)\n",
            "train examples shape: (416, 7448, 14)\n"
          ],
          "name": "stdout"
        }
      ]
    },
    {
      "cell_type": "code",
      "metadata": {
        "id": "iRhNtsHHbvVU",
        "colab_type": "code",
        "outputId": "658129f7-d2fc-4e43-cb8f-3e062411390b",
        "colab": {
          "base_uri": "https://localhost:8080/",
          "height": 510
        }
      },
      "source": [
        "import tensorflow as tf\n",
        "from tensorflow import keras\n",
        "from tensorflow.keras import layers\n",
        "\n",
        "test_grid_input = keras.Input(name=\"test_grid_input\", shape=(931, 14))\n",
        "examples_input = keras.Input(name=\"examples_input\", shape=(None, 14))\n",
        "\n",
        "inputs = [test_grid_input, examples_input]\n",
        "\n",
        "x = layers.Masking(mask_value=13)(examples_input)\n",
        "\n",
        "x = layers.LSTM(512)(x)\n",
        "\n",
        "y = layers.Masking(mask_value=13)(test_grid_input)\n",
        "\n",
        "y = layers.Flatten()(y)\n",
        "\n",
        "x = layers.Concatenate()([x, y])\n",
        "\n",
        "x = layers.Dense(13034, activation=\"relu\")(x)\n",
        "\n",
        "x = layers.Dense(13034, activation=\"softmax\")(x)\n",
        "\n",
        "x = layers.Reshape((931, 14))(x)\n",
        "\n",
        "model = keras.Model(inputs=inputs, outputs=x, name=\"arc_model\")\n",
        "\n",
        "model.summary()\n",
        "\n",
        "keras.utils.plot_model(model, \"model.png\", show_shapes=True)\n",
        "\n",
        "# compile the model\n",
        "model.compile(\n",
        "    loss=keras.losses.CategoricalCrossentropy(),\n",
        "    optimizer=keras.optimizers.Adam(),\n",
        "    metrics=[\"accuracy\"]\n",
        ")"
      ],
      "execution_count": 0,
      "outputs": [
        {
          "output_type": "stream",
          "text": [
            "Model: \"arc_model\"\n",
            "__________________________________________________________________________________________________\n",
            "Layer (type)                    Output Shape         Param #     Connected to                     \n",
            "==================================================================================================\n",
            "examples_input (InputLayer)     [(None, None, 14)]   0                                            \n",
            "__________________________________________________________________________________________________\n",
            "test_grid_input (InputLayer)    [(None, 931, 14)]    0                                            \n",
            "__________________________________________________________________________________________________\n",
            "masking_2 (Masking)             (None, None, 14)     0           examples_input[0][0]             \n",
            "__________________________________________________________________________________________________\n",
            "masking_3 (Masking)             (None, 931, 14)      0           test_grid_input[0][0]            \n",
            "__________________________________________________________________________________________________\n",
            "lstm_1 (LSTM)                   (None, 512)          1079296     masking_2[0][0]                  \n",
            "__________________________________________________________________________________________________\n",
            "flatten_1 (Flatten)             (None, 13034)        0           masking_3[0][0]                  \n",
            "__________________________________________________________________________________________________\n",
            "concatenate_1 (Concatenate)     (None, 13546)        0           lstm_1[0][0]                     \n",
            "                                                                 flatten_1[0][0]                  \n",
            "__________________________________________________________________________________________________\n",
            "dense_2 (Dense)                 (None, 13034)        176571598   concatenate_1[0][0]              \n",
            "__________________________________________________________________________________________________\n",
            "dense_3 (Dense)                 (None, 13034)        169898190   dense_2[0][0]                    \n",
            "__________________________________________________________________________________________________\n",
            "reshape_1 (Reshape)             (None, 931, 14)      0           dense_3[0][0]                    \n",
            "==================================================================================================\n",
            "Total params: 347,549,084\n",
            "Trainable params: 347,549,084\n",
            "Non-trainable params: 0\n",
            "__________________________________________________________________________________________________\n"
          ],
          "name": "stdout"
        }
      ]
    },
    {
      "cell_type": "markdown",
      "metadata": {
        "id": "UMnP3hwSBUfA",
        "colab_type": "text"
      },
      "source": [
        "# Training the model"
      ]
    },
    {
      "cell_type": "code",
      "metadata": {
        "id": "BI3xRKGW31M9",
        "colab_type": "code",
        "colab": {}
      },
      "source": [
        "def line_to_grid(l):\n",
        "  grid = [[]]\n",
        "  for x in l:\n",
        "    if (x < 10 and len(grid[-1]) < 30):\n",
        "      grid[-1].append(x)\n",
        "    if (x == 10 and len(grid) < 30):\n",
        "      grid.append([])\n",
        "  # remove empty rows\n",
        "  for i, x in enumerate(grid):\n",
        "    if (len(x) == 0):\n",
        "      del grid[i]\n",
        "  # pad grid with black\n",
        "  num_rows = len(grid)\n",
        "  max_columns = max(list(map(lambda x: len(x), grid)))\n",
        "  if num_rows > max_columns:\n",
        "    # pad each row to num_rows length\n",
        "    for i, row in enumerate(grid):\n",
        "      while len(row) < num_rows:\n",
        "        grid[i].append(0)\n",
        "  else:\n",
        "    # pad each row to max_columns\n",
        "    for i, row in enumerate(grid):\n",
        "      while len(row) < max_columns:\n",
        "        grid[i].append(0)\n",
        "    # pad number of rows to max_columns\n",
        "    while len(grid) < max_columns:\n",
        "      grid.append([0] * max_columns)\n",
        "  return grid"
      ],
      "execution_count": 0,
      "outputs": []
    },
    {
      "cell_type": "code",
      "metadata": {
        "id": "Bz7sxU7IBWPq",
        "colab_type": "code",
        "outputId": "d83c6295-a1fa-4534-a297-230b682960e5",
        "colab": {
          "base_uri": "https://localhost:8080/",
          "height": 1000
        }
      },
      "source": [
        "epochs = 20\n",
        "batch_size = 8\n",
        "\n",
        "test_inputs, test_outputs, train_examples = load_tasks(path_to_folder=\"./training\")\n",
        "\n",
        "# Explicitly set apart 10% of the data for validation, which we do not train over\n",
        "split_at = len(test_inputs) - (len(test_inputs) // 10)\n",
        "(x1_train, x1_val) = test_inputs[:split_at], test_inputs[split_at:]\n",
        "(x2_train, x2_val) = train_examples[:split_at], train_examples[split_at:]\n",
        "(y_train, y_val) = test_outputs[:split_at], test_outputs[split_at:]\n",
        "\n",
        "# store an input that we'll use to visualize the model's prediction at the end\n",
        "# of each epoch\n",
        "test_x1, test_y, test_x2 = load_tasks(path_to_file=\"./training/00d62c1b.json\")\n",
        "\n",
        "display(x1_train.shape)\n",
        "display(x2_train.shape)\n",
        "display(y_train.shape)\n",
        "\n",
        "for epoch in range(1, epochs):\n",
        "  print(f\"\\nEpoch {epoch}\")\n",
        "  model.fit(\n",
        "    x=[x1_train, x2_train],\n",
        "    y=y_train,\n",
        "    batch_size=batch_size,\n",
        "    validation_data=([x1_val, x2_val], y_val),\n",
        "    epochs=1,\n",
        "    callbacks=[tf.keras.callbacks.EarlyStopping(monitor=\"val_accuracy\", patience=2)]\n",
        "  )\n",
        "\n",
        "  pred = model.predict([test_x1, test_x2])\n",
        "  pred = list(map(lambda x: np.argmax(x, -1), pred[0]))\n",
        "  pred = line_to_grid(pred)\n",
        "  # pad grid with 10's, the plotting function will paint those white\n",
        "  # pred = keras.preprocessing.sequence.pad_sequences(pred, padding='post', value=10)\n",
        "  plot_grids(pred)\n"
      ],
      "execution_count": 0,
      "outputs": [
        {
          "output_type": "display_data",
          "data": {
            "text/plain": [
              "(375, 931, 14)"
            ]
          },
          "metadata": {
            "tags": []
          }
        },
        {
          "output_type": "display_data",
          "data": {
            "text/plain": [
              "(375, 7448, 14)"
            ]
          },
          "metadata": {
            "tags": []
          }
        },
        {
          "output_type": "display_data",
          "data": {
            "text/plain": [
              "(375, 931, 14)"
            ]
          },
          "metadata": {
            "tags": []
          }
        },
        {
          "output_type": "stream",
          "text": [
            "\n",
            "Epoch 1\n",
            "47/47 [==============================] - 88s 2s/step - loss: 0.6428 - accuracy: 0.8425 - val_loss: 0.4146 - val_accuracy: 0.8935\n"
          ],
          "name": "stdout"
        },
        {
          "output_type": "display_data",
          "data": {
            "image/png": "[encoded data removed]",
            "text/plain": [
              "<Figure size 288x288 with 1 Axes>"
            ]
          },
          "metadata": {
            "tags": [],
            "needs_background": "light"
          }
        },
        {
          "output_type": "stream",
          "text": [
            "\n",
            "Epoch 2\n",
            "47/47 [==============================] - 87s 2s/step - loss: 0.4100 - accuracy: 0.8865 - val_loss: 0.4012 - val_accuracy: 0.8957\n"
          ],
          "name": "stdout"
        },
        {
          "output_type": "display_data",
          "data": {
            "image/png": "[encoded data removed]",
            "text/plain": [
              "<Figure size 288x288 with 1 Axes>"
            ]
          },
          "metadata": {
            "tags": [],
            "needs_background": "light"
          }
        },
        {
          "output_type": "stream",
          "text": [
            "\n",
            "Epoch 3\n",
            "47/47 [==============================] - 87s 2s/step - loss: 0.3315 - accuracy: 0.9053 - val_loss: 0.4262 - val_accuracy: 0.8877\n"
          ],
          "name": "stdout"
        },
        {
          "output_type": "display_data",
          "data": {
            "image/png": "[encoded data removed]",
            "text/plain": [
              "<Figure size 288x288 with 1 Axes>"
            ]
          },
          "metadata": {
            "tags": [],
            "needs_background": "light"
          }
        },
        {
          "output_type": "stream",
          "text": [
            "\n",
            "Epoch 4\n",
            "47/47 [==============================] - 87s 2s/step - loss: 0.2766 - accuracy: 0.9201 - val_loss: 0.4306 - val_accuracy: 0.8900\n"
          ],
          "name": "stdout"
        },
        {
          "output_type": "display_data",
          "data": {
            "image/png": "[encoded data removed]",
            "text/plain": [
              "<Figure size 288x288 with 1 Axes>"
            ]
          },
          "metadata": {
            "tags": [],
            "needs_background": "light"
          }
        },
        {
          "output_type": "stream",
          "text": [
            "\n",
            "Epoch 5\n",
            "47/47 [==============================] - 87s 2s/step - loss: 0.2406 - accuracy: 0.9315 - val_loss: 0.4432 - val_accuracy: 0.8852\n"
          ],
          "name": "stdout"
        },
        {
          "output_type": "display_data",
          "data": {
            "image/png": "[encoded data removed]",
            "text/plain": [
              "<Figure size 288x288 with 1 Axes>"
            ]
          },
          "metadata": {
            "tags": [],
            "needs_background": "light"
          }
        },
        {
          "output_type": "stream",
          "text": [
            "\n",
            "Epoch 6\n",
            "47/47 [==============================] - 87s 2s/step - loss: 0.2219 - accuracy: 0.9362 - val_loss: 0.4656 - val_accuracy: 0.8850\n"
          ],
          "name": "stdout"
        },
        {
          "output_type": "display_data",
          "data": {
            "image/png": "[encoded data removed]",
            "text/plain": [
              "<Figure size 288x288 with 1 Axes>"
            ]
          },
          "metadata": {
            "tags": [],
            "needs_background": "light"
          }
        },
        {
          "output_type": "stream",
          "text": [
            "\n",
            "Epoch 7\n",
            "47/47 [==============================] - 87s 2s/step - loss: 0.1931 - accuracy: 0.9444 - val_loss: 0.5020 - val_accuracy: 0.8911\n"
          ],
          "name": "stdout"
        },
        {
          "output_type": "display_data",
          "data": {
            "image/png": "[encoded data removed]",
            "text/plain": [
              "<Figure size 288x288 with 1 Axes>"
            ]
          },
          "metadata": {
            "tags": [],
            "needs_background": "light"
          }
        },
        {
          "output_type": "stream",
          "text": [
            "\n",
            "Epoch 8\n",
            "47/47 [==============================] - 87s 2s/step - loss: 0.1726 - accuracy: 0.9510 - val_loss: 0.5131 - val_accuracy: 0.8789\n"
          ],
          "name": "stdout"
        },
        {
          "output_type": "display_data",
          "data": {
            "image/png": "[encoded data removed]",
            "text/plain": [
              "<Figure size 288x288 with 1 Axes>"
            ]
          },
          "metadata": {
            "tags": [],
            "needs_background": "light"
          }
        },
        {
          "output_type": "stream",
          "text": [
            "\n",
            "Epoch 9\n",
            "47/47 [==============================] - 87s 2s/step - loss: 0.1609 - accuracy: 0.9532 - val_loss: 0.5267 - val_accuracy: 0.8935\n"
          ],
          "name": "stdout"
        },
        {
          "output_type": "display_data",
          "data": {
            "image/png": "[encoded data removed]",
            "text/plain": [
              "<Figure size 288x288 with 1 Axes>"
            ]
          },
          "metadata": {
            "tags": [],
            "needs_background": "light"
          }
        },
        {
          "output_type": "stream",
          "text": [
            "\n",
            "Epoch 10\n",
            "47/47 [==============================] - 87s 2s/step - loss: 0.1502 - accuracy: 0.9574 - val_loss: 0.5187 - val_accuracy: 0.8934\n"
          ],
          "name": "stdout"
        },
        {
          "output_type": "display_data",
          "data": {
            "image/png": "[encoded data removed]",
            "text/plain": [
              "<Figure size 288x288 with 1 Axes>"
            ]
          },
          "metadata": {
            "tags": [],
            "needs_background": "light"
          }
        },
        {
          "output_type": "stream",
          "text": [
            "\n",
            "Epoch 11\n",
            "47/47 [==============================] - 87s 2s/step - loss: 0.1466 - accuracy: 0.9574 - val_loss: 0.5580 - val_accuracy: 0.8893\n"
          ],
          "name": "stdout"
        },
        {
          "output_type": "display_data",
          "data": {
            "image/png": "[encoded data removed]",
            "text/plain": [
              "<Figure size 288x288 with 1 Axes>"
            ]
          },
          "metadata": {
            "tags": [],
            "needs_background": "light"
          }
        },
        {
          "output_type": "stream",
          "text": [
            "\n",
            "Epoch 12\n",
            "47/47 [==============================] - 87s 2s/step - loss: 0.1316 - accuracy: 0.9618 - val_loss: 0.5809 - val_accuracy: 0.8929\n"
          ],
          "name": "stdout"
        },
        {
          "output_type": "display_data",
          "data": {
            "image/png": "[encoded data removed]",
            "text/plain": [
              "<Figure size 288x288 with 1 Axes>"
            ]
          },
          "metadata": {
            "tags": [],
            "needs_background": "light"
          }
        },
        {
          "output_type": "stream",
          "text": [
            "\n",
            "Epoch 13\n",
            "47/47 [==============================] - 87s 2s/step - loss: 0.1234 - accuracy: 0.9622 - val_loss: 0.5837 - val_accuracy: 0.8908\n"
          ],
          "name": "stdout"
        },
        {
          "output_type": "display_data",
          "data": {
            "image/png": "[encoded data removed]",
            "text/plain": [
              "<Figure size 288x288 with 1 Axes>"
            ]
          },
          "metadata": {
            "tags": [],
            "needs_background": "light"
          }
        },
        {
          "output_type": "stream",
          "text": [
            "\n",
            "Epoch 14\n",
            "47/47 [==============================] - 87s 2s/step - loss: 0.1154 - accuracy: 0.9642 - val_loss: 0.5727 - val_accuracy: 0.8911\n"
          ],
          "name": "stdout"
        },
        {
          "output_type": "display_data",
          "data": {
            "image/png": "[encoded data removed]",
            "text/plain": [
              "<Figure size 288x288 with 1 Axes>"
            ]
          },
          "metadata": {
            "tags": [],
            "needs_background": "light"
          }
        },
        {
          "output_type": "stream",
          "text": [
            "\n",
            "Epoch 15\n",
            "47/47 [==============================] - 87s 2s/step - loss: 0.1112 - accuracy: 0.9660 - val_loss: 0.5990 - val_accuracy: 0.8828\n"
          ],
          "name": "stdout"
        },
        {
          "output_type": "display_data",
          "data": {
            "image/png": "[encoded data removed]",
            "text/plain": [
              "<Figure size 288x288 with 1 Axes>"
            ]
          },
          "metadata": {
            "tags": [],
            "needs_background": "light"
          }
        },
        {
          "output_type": "stream",
          "text": [
            "\n",
            "Epoch 16\n",
            "45/47 [===========================>..] - ETA: 3s - loss: 0.1043 - accuracy: 0.9681"
          ],
          "name": "stdout"
        },
        {
          "output_type": "error",
          "ename": "KeyboardInterrupt",
          "evalue": "ignored",
          "traceback": [
            "\u001b[0;31m---------------------------------------------------------------------------\u001b[0m",
            "\u001b[0;31mKeyboardInterrupt\u001b[0m                         Traceback (most recent call last)",
            "\u001b[0;32m<ipython-input-25-e5f9171b0865>\u001b[0m in \u001b[0;36m<module>\u001b[0;34m()\u001b[0m\n\u001b[1;32m     25\u001b[0m     \u001b[0mbatch_size\u001b[0m\u001b[0;34m=\u001b[0m\u001b[0mbatch_size\u001b[0m\u001b[0;34m,\u001b[0m\u001b[0;34m\u001b[0m\u001b[0;34m\u001b[0m\u001b[0m\n\u001b[1;32m     26\u001b[0m     \u001b[0mvalidation_data\u001b[0m\u001b[0;34m=\u001b[0m\u001b[0;34m(\u001b[0m\u001b[0;34m[\u001b[0m\u001b[0mx1_val\u001b[0m\u001b[0;34m,\u001b[0m \u001b[0mx2_val\u001b[0m\u001b[0;34m]\u001b[0m\u001b[0;34m,\u001b[0m \u001b[0my_val\u001b[0m\u001b[0;34m)\u001b[0m\u001b[0;34m,\u001b[0m\u001b[0;34m\u001b[0m\u001b[0;34m\u001b[0m\u001b[0m\n\u001b[0;32m---> 27\u001b[0;31m     \u001b[0mepochs\u001b[0m\u001b[0;34m=\u001b[0m\u001b[0;36m1\u001b[0m\u001b[0;34m\u001b[0m\u001b[0;34m\u001b[0m\u001b[0m\n\u001b[0m\u001b[1;32m     28\u001b[0m   )\n\u001b[1;32m     29\u001b[0m \u001b[0;34m\u001b[0m\u001b[0m\n",
            "\u001b[0;32m/usr/local/lib/python3.6/dist-packages/tensorflow/python/keras/engine/training.py\u001b[0m in \u001b[0;36m_method_wrapper\u001b[0;34m(self, *args, **kwargs)\u001b[0m\n\u001b[1;32m     64\u001b[0m   \u001b[0;32mdef\u001b[0m \u001b[0m_method_wrapper\u001b[0m\u001b[0;34m(\u001b[0m\u001b[0mself\u001b[0m\u001b[0;34m,\u001b[0m \u001b[0;34m*\u001b[0m\u001b[0margs\u001b[0m\u001b[0;34m,\u001b[0m \u001b[0;34m**\u001b[0m\u001b[0mkwargs\u001b[0m\u001b[0;34m)\u001b[0m\u001b[0;34m:\u001b[0m\u001b[0;34m\u001b[0m\u001b[0;34m\u001b[0m\u001b[0m\n\u001b[1;32m     65\u001b[0m     \u001b[0;32mif\u001b[0m \u001b[0;32mnot\u001b[0m \u001b[0mself\u001b[0m\u001b[0;34m.\u001b[0m\u001b[0m_in_multi_worker_mode\u001b[0m\u001b[0;34m(\u001b[0m\u001b[0;34m)\u001b[0m\u001b[0;34m:\u001b[0m  \u001b[0;31m# pylint: disable=protected-access\u001b[0m\u001b[0;34m\u001b[0m\u001b[0;34m\u001b[0m\u001b[0m\n\u001b[0;32m---> 66\u001b[0;31m       \u001b[0;32mreturn\u001b[0m \u001b[0mmethod\u001b[0m\u001b[0;34m(\u001b[0m\u001b[0mself\u001b[0m\u001b[0;34m,\u001b[0m \u001b[0;34m*\u001b[0m\u001b[0margs\u001b[0m\u001b[0;34m,\u001b[0m \u001b[0;34m**\u001b[0m\u001b[0mkwargs\u001b[0m\u001b[0;34m)\u001b[0m\u001b[0;34m\u001b[0m\u001b[0;34m\u001b[0m\u001b[0m\n\u001b[0m\u001b[1;32m     67\u001b[0m \u001b[0;34m\u001b[0m\u001b[0m\n\u001b[1;32m     68\u001b[0m     \u001b[0;31m# Running inside `run_distribute_coordinator` already.\u001b[0m\u001b[0;34m\u001b[0m\u001b[0;34m\u001b[0m\u001b[0;34m\u001b[0m\u001b[0m\n",
            "\u001b[0;32m/usr/local/lib/python3.6/dist-packages/tensorflow/python/keras/engine/training.py\u001b[0m in \u001b[0;36mfit\u001b[0;34m(self, x, y, batch_size, epochs, verbose, callbacks, validation_split, validation_data, shuffle, class_weight, sample_weight, initial_epoch, steps_per_epoch, validation_steps, validation_batch_size, validation_freq, max_queue_size, workers, use_multiprocessing)\u001b[0m\n\u001b[1;32m    846\u001b[0m                 batch_size=batch_size):\n\u001b[1;32m    847\u001b[0m               \u001b[0mcallbacks\u001b[0m\u001b[0;34m.\u001b[0m\u001b[0mon_train_batch_begin\u001b[0m\u001b[0;34m(\u001b[0m\u001b[0mstep\u001b[0m\u001b[0;34m)\u001b[0m\u001b[0;34m\u001b[0m\u001b[0;34m\u001b[0m\u001b[0m\n\u001b[0;32m--> 848\u001b[0;31m               \u001b[0mtmp_logs\u001b[0m \u001b[0;34m=\u001b[0m \u001b[0mtrain_function\u001b[0m\u001b[0;34m(\u001b[0m\u001b[0miterator\u001b[0m\u001b[0;34m)\u001b[0m\u001b[0;34m\u001b[0m\u001b[0;34m\u001b[0m\u001b[0m\n\u001b[0m\u001b[1;32m    849\u001b[0m               \u001b[0;31m# Catch OutOfRangeError for Datasets of unknown size.\u001b[0m\u001b[0;34m\u001b[0m\u001b[0;34m\u001b[0m\u001b[0;34m\u001b[0m\u001b[0m\n\u001b[1;32m    850\u001b[0m               \u001b[0;31m# This blocks until the batch has finished executing.\u001b[0m\u001b[0;34m\u001b[0m\u001b[0;34m\u001b[0m\u001b[0;34m\u001b[0m\u001b[0m\n",
            "\u001b[0;32m/usr/local/lib/python3.6/dist-packages/tensorflow/python/eager/def_function.py\u001b[0m in \u001b[0;36m__call__\u001b[0;34m(self, *args, **kwds)\u001b[0m\n\u001b[1;32m    578\u001b[0m         \u001b[0mxla_context\u001b[0m\u001b[0;34m.\u001b[0m\u001b[0mExit\u001b[0m\u001b[0;34m(\u001b[0m\u001b[0;34m)\u001b[0m\u001b[0;34m\u001b[0m\u001b[0;34m\u001b[0m\u001b[0m\n\u001b[1;32m    579\u001b[0m     \u001b[0;32melse\u001b[0m\u001b[0;34m:\u001b[0m\u001b[0;34m\u001b[0m\u001b[0;34m\u001b[0m\u001b[0m\n\u001b[0;32m--> 580\u001b[0;31m       \u001b[0mresult\u001b[0m \u001b[0;34m=\u001b[0m \u001b[0mself\u001b[0m\u001b[0;34m.\u001b[0m\u001b[0m_call\u001b[0m\u001b[0;34m(\u001b[0m\u001b[0;34m*\u001b[0m\u001b[0margs\u001b[0m\u001b[0;34m,\u001b[0m \u001b[0;34m**\u001b[0m\u001b[0mkwds\u001b[0m\u001b[0;34m)\u001b[0m\u001b[0;34m\u001b[0m\u001b[0;34m\u001b[0m\u001b[0m\n\u001b[0m\u001b[1;32m    581\u001b[0m \u001b[0;34m\u001b[0m\u001b[0m\n\u001b[1;32m    582\u001b[0m     \u001b[0;32mif\u001b[0m \u001b[0mtracing_count\u001b[0m \u001b[0;34m==\u001b[0m \u001b[0mself\u001b[0m\u001b[0;34m.\u001b[0m\u001b[0m_get_tracing_count\u001b[0m\u001b[0;34m(\u001b[0m\u001b[0;34m)\u001b[0m\u001b[0;34m:\u001b[0m\u001b[0;34m\u001b[0m\u001b[0;34m\u001b[0m\u001b[0m\n",
            "\u001b[0;32m/usr/local/lib/python3.6/dist-packages/tensorflow/python/eager/def_function.py\u001b[0m in \u001b[0;36m_call\u001b[0;34m(self, *args, **kwds)\u001b[0m\n\u001b[1;32m    609\u001b[0m       \u001b[0;31m# In this case we have created variables on the first call, so we run the\u001b[0m\u001b[0;34m\u001b[0m\u001b[0;34m\u001b[0m\u001b[0;34m\u001b[0m\u001b[0m\n\u001b[1;32m    610\u001b[0m       \u001b[0;31m# defunned version which is guaranteed to never create variables.\u001b[0m\u001b[0;34m\u001b[0m\u001b[0;34m\u001b[0m\u001b[0;34m\u001b[0m\u001b[0m\n\u001b[0;32m--> 611\u001b[0;31m       \u001b[0;32mreturn\u001b[0m \u001b[0mself\u001b[0m\u001b[0;34m.\u001b[0m\u001b[0m_stateless_fn\u001b[0m\u001b[0;34m(\u001b[0m\u001b[0;34m*\u001b[0m\u001b[0margs\u001b[0m\u001b[0;34m,\u001b[0m \u001b[0;34m**\u001b[0m\u001b[0mkwds\u001b[0m\u001b[0;34m)\u001b[0m  \u001b[0;31m# pylint: disable=not-callable\u001b[0m\u001b[0;34m\u001b[0m\u001b[0;34m\u001b[0m\u001b[0m\n\u001b[0m\u001b[1;32m    612\u001b[0m     \u001b[0;32melif\u001b[0m \u001b[0mself\u001b[0m\u001b[0;34m.\u001b[0m\u001b[0m_stateful_fn\u001b[0m \u001b[0;32mis\u001b[0m \u001b[0;32mnot\u001b[0m \u001b[0;32mNone\u001b[0m\u001b[0;34m:\u001b[0m\u001b[0;34m\u001b[0m\u001b[0;34m\u001b[0m\u001b[0m\n\u001b[1;32m    613\u001b[0m       \u001b[0;31m# Release the lock early so that multiple threads can perform the call\u001b[0m\u001b[0;34m\u001b[0m\u001b[0;34m\u001b[0m\u001b[0;34m\u001b[0m\u001b[0m\n",
            "\u001b[0;32m/usr/local/lib/python3.6/dist-packages/tensorflow/python/eager/function.py\u001b[0m in \u001b[0;36m__call__\u001b[0;34m(self, *args, **kwargs)\u001b[0m\n\u001b[1;32m   2418\u001b[0m     \u001b[0;32mwith\u001b[0m \u001b[0mself\u001b[0m\u001b[0;34m.\u001b[0m\u001b[0m_lock\u001b[0m\u001b[0;34m:\u001b[0m\u001b[0;34m\u001b[0m\u001b[0;34m\u001b[0m\u001b[0m\n\u001b[1;32m   2419\u001b[0m       \u001b[0mgraph_function\u001b[0m\u001b[0;34m,\u001b[0m \u001b[0margs\u001b[0m\u001b[0;34m,\u001b[0m \u001b[0mkwargs\u001b[0m \u001b[0;34m=\u001b[0m \u001b[0mself\u001b[0m\u001b[0;34m.\u001b[0m\u001b[0m_maybe_define_function\u001b[0m\u001b[0;34m(\u001b[0m\u001b[0margs\u001b[0m\u001b[0;34m,\u001b[0m \u001b[0mkwargs\u001b[0m\u001b[0;34m)\u001b[0m\u001b[0;34m\u001b[0m\u001b[0;34m\u001b[0m\u001b[0m\n\u001b[0;32m-> 2420\u001b[0;31m     \u001b[0;32mreturn\u001b[0m \u001b[0mgraph_function\u001b[0m\u001b[0;34m.\u001b[0m\u001b[0m_filtered_call\u001b[0m\u001b[0;34m(\u001b[0m\u001b[0margs\u001b[0m\u001b[0;34m,\u001b[0m \u001b[0mkwargs\u001b[0m\u001b[0;34m)\u001b[0m  \u001b[0;31m# pylint: disable=protected-access\u001b[0m\u001b[0;34m\u001b[0m\u001b[0;34m\u001b[0m\u001b[0m\n\u001b[0m\u001b[1;32m   2421\u001b[0m \u001b[0;34m\u001b[0m\u001b[0m\n\u001b[1;32m   2422\u001b[0m   \u001b[0;34m@\u001b[0m\u001b[0mproperty\u001b[0m\u001b[0;34m\u001b[0m\u001b[0;34m\u001b[0m\u001b[0m\n",
            "\u001b[0;32m/usr/local/lib/python3.6/dist-packages/tensorflow/python/eager/function.py\u001b[0m in \u001b[0;36m_filtered_call\u001b[0;34m(self, args, kwargs)\u001b[0m\n\u001b[1;32m   1663\u001b[0m          if isinstance(t, (ops.Tensor,\n\u001b[1;32m   1664\u001b[0m                            resource_variable_ops.BaseResourceVariable))),\n\u001b[0;32m-> 1665\u001b[0;31m         self.captured_inputs)\n\u001b[0m\u001b[1;32m   1666\u001b[0m \u001b[0;34m\u001b[0m\u001b[0m\n\u001b[1;32m   1667\u001b[0m   \u001b[0;32mdef\u001b[0m \u001b[0m_call_flat\u001b[0m\u001b[0;34m(\u001b[0m\u001b[0mself\u001b[0m\u001b[0;34m,\u001b[0m \u001b[0margs\u001b[0m\u001b[0;34m,\u001b[0m \u001b[0mcaptured_inputs\u001b[0m\u001b[0;34m,\u001b[0m \u001b[0mcancellation_manager\u001b[0m\u001b[0;34m=\u001b[0m\u001b[0;32mNone\u001b[0m\u001b[0;34m)\u001b[0m\u001b[0;34m:\u001b[0m\u001b[0;34m\u001b[0m\u001b[0;34m\u001b[0m\u001b[0m\n",
            "\u001b[0;32m/usr/local/lib/python3.6/dist-packages/tensorflow/python/eager/function.py\u001b[0m in \u001b[0;36m_call_flat\u001b[0;34m(self, args, captured_inputs, cancellation_manager)\u001b[0m\n\u001b[1;32m   1744\u001b[0m       \u001b[0;31m# No tape is watching; skip to running the function.\u001b[0m\u001b[0;34m\u001b[0m\u001b[0;34m\u001b[0m\u001b[0;34m\u001b[0m\u001b[0m\n\u001b[1;32m   1745\u001b[0m       return self._build_call_outputs(self._inference_function.call(\n\u001b[0;32m-> 1746\u001b[0;31m           ctx, args, cancellation_manager=cancellation_manager))\n\u001b[0m\u001b[1;32m   1747\u001b[0m     forward_backward = self._select_forward_and_backward_functions(\n\u001b[1;32m   1748\u001b[0m         \u001b[0margs\u001b[0m\u001b[0;34m,\u001b[0m\u001b[0;34m\u001b[0m\u001b[0;34m\u001b[0m\u001b[0m\n",
            "\u001b[0;32m/usr/local/lib/python3.6/dist-packages/tensorflow/python/eager/function.py\u001b[0m in \u001b[0;36mcall\u001b[0;34m(self, ctx, args, cancellation_manager)\u001b[0m\n\u001b[1;32m    596\u001b[0m               \u001b[0minputs\u001b[0m\u001b[0;34m=\u001b[0m\u001b[0margs\u001b[0m\u001b[0;34m,\u001b[0m\u001b[0;34m\u001b[0m\u001b[0;34m\u001b[0m\u001b[0m\n\u001b[1;32m    597\u001b[0m               \u001b[0mattrs\u001b[0m\u001b[0;34m=\u001b[0m\u001b[0mattrs\u001b[0m\u001b[0;34m,\u001b[0m\u001b[0;34m\u001b[0m\u001b[0;34m\u001b[0m\u001b[0m\n\u001b[0;32m--> 598\u001b[0;31m               ctx=ctx)\n\u001b[0m\u001b[1;32m    599\u001b[0m         \u001b[0;32melse\u001b[0m\u001b[0;34m:\u001b[0m\u001b[0;34m\u001b[0m\u001b[0;34m\u001b[0m\u001b[0m\n\u001b[1;32m    600\u001b[0m           outputs = execute.execute_with_cancellation(\n",
            "\u001b[0;32m/usr/local/lib/python3.6/dist-packages/tensorflow/python/eager/execute.py\u001b[0m in \u001b[0;36mquick_execute\u001b[0;34m(op_name, num_outputs, inputs, attrs, ctx, name)\u001b[0m\n\u001b[1;32m     58\u001b[0m     \u001b[0mctx\u001b[0m\u001b[0;34m.\u001b[0m\u001b[0mensure_initialized\u001b[0m\u001b[0;34m(\u001b[0m\u001b[0;34m)\u001b[0m\u001b[0;34m\u001b[0m\u001b[0;34m\u001b[0m\u001b[0m\n\u001b[1;32m     59\u001b[0m     tensors = pywrap_tfe.TFE_Py_Execute(ctx._handle, device_name, op_name,\n\u001b[0;32m---> 60\u001b[0;31m                                         inputs, attrs, num_outputs)\n\u001b[0m\u001b[1;32m     61\u001b[0m   \u001b[0;32mexcept\u001b[0m \u001b[0mcore\u001b[0m\u001b[0;34m.\u001b[0m\u001b[0m_NotOkStatusException\u001b[0m \u001b[0;32mas\u001b[0m \u001b[0me\u001b[0m\u001b[0;34m:\u001b[0m\u001b[0;34m\u001b[0m\u001b[0;34m\u001b[0m\u001b[0m\n\u001b[1;32m     62\u001b[0m     \u001b[0;32mif\u001b[0m \u001b[0mname\u001b[0m \u001b[0;32mis\u001b[0m \u001b[0;32mnot\u001b[0m \u001b[0;32mNone\u001b[0m\u001b[0;34m:\u001b[0m\u001b[0;34m\u001b[0m\u001b[0;34m\u001b[0m\u001b[0m\n",
            "\u001b[0;31mKeyboardInterrupt\u001b[0m: "
          ]
        }
      ]
    },
    {
      "cell_type": "markdown",
      "metadata": {
        "id": "qgrS9mONIyfm",
        "colab_type": "text"
      },
      "source": [
        "# Creating submission CSV"
      ]
    },
    {
      "cell_type": "code",
      "metadata": {
        "id": "2xHygLLtaoHN",
        "colab_type": "code",
        "outputId": "ef400da5-d549-4ba7-b27a-303780a527f0",
        "colab": {
          "base_uri": "https://localhost:8080/",
          "height": 34
        }
      },
      "source": [
        "from google.colab import drive\n",
        "drive.mount('/content/drive')"
      ],
      "execution_count": 0,
      "outputs": [
        {
          "output_type": "stream",
          "text": [
            "Drive already mounted at /content/drive; to attempt to forcibly remount, call drive.mount(\"/content/drive\", force_remount=True).\n"
          ],
          "name": "stdout"
        }
      ]
    },
    {
      "cell_type": "code",
      "metadata": {
        "id": "Ji7JiHYvap32",
        "colab_type": "code",
        "colab": {}
      },
      "source": [
        "def flattener(pred):\n",
        "    str_pred = str([row for row in pred])\n",
        "    str_pred = str_pred.replace(', ', '')\n",
        "    str_pred = str_pred.replace('[[', '|')\n",
        "    str_pred = str_pred.replace('][', '|')\n",
        "    str_pred = str_pred.replace(']]', '|')\n",
        "    return str_pred"
      ],
      "execution_count": 0,
      "outputs": []
    },
    {
      "cell_type": "code",
      "metadata": {
        "id": "vqFGGJUOI0aG",
        "colab_type": "code",
        "outputId": "90d0229c-a41c-4e3d-a765-519ddc8c0f23",
        "colab": {
          "base_uri": "https://localhost:8080/",
          "height": 173
        }
      },
      "source": [
        "import csv\n",
        "\n",
        "task_ids = []\n",
        "outputs = []\n",
        "\n",
        "for filename in sorted(os.listdir(\"./test\"))[:3]: # TODO: remove :3\n",
        "  task_id = os.path.splitext(filename)[0]\n",
        "  test_inputs, test_outputs, train_examples = load_tasks(path_to_file=f\"./test/{filename}\")\n",
        "\n",
        "  for i, test_input in enumerate(test_inputs):\n",
        "    x1 = np.array([test_input])\n",
        "    x2 = np.array([train_examples[i]])\n",
        "    pred = model.predict([x1, x2])\n",
        "    pred = list(map(lambda x: np.argmax(x, -1), pred[0]))\n",
        "    pred = line_to_grid(pred)\n",
        "    pred = flattener(pred)\n",
        "    task_ids.append(f\"{task_id}_0\")\n",
        "    outputs.append(pred)\n",
        "\n",
        "with open(\"/content/drive/My Drive/arc-output.csv\", 'w') as myfile:\n",
        "  wr = csv.writer(myfile)\n",
        "  wr.writerow([\"output_id\", \"output\"])\n",
        "  for i, task_id in enumerate(task_ids):\n",
        "      wr.writerow([task_id, outputs[i]])\n",
        "\n",
        "samplecsv = pandas.read_csv(\"/content/drive/My Drive/arc-output.csv\", index_col=\"output_id\")\n",
        "display(samplecsv.head())"
      ],
      "execution_count": 0,
      "outputs": [
        {
          "output_type": "display_data",
          "data": {
            "text/html": [
              "<div>\n",
              "<style scoped>\n",
              "    .dataframe tbody tr th:only-of-type {\n",
              "        vertical-align: middle;\n",
              "    }\n",
              "\n",
              "    .dataframe tbody tr th {\n",
              "        vertical-align: top;\n",
              "    }\n",
              "\n",
              "    .dataframe thead th {\n",
              "        text-align: right;\n",
              "    }\n",
              "</style>\n",
              "<table border=\"1\" class=\"dataframe\">\n",
              "  <thead>\n",
              "    <tr style=\"text-align: right;\">\n",
              "      <th></th>\n",
              "      <th>output</th>\n",
              "    </tr>\n",
              "    <tr>\n",
              "      <th>output_id</th>\n",
              "      <th></th>\n",
              "    </tr>\n",
              "  </thead>\n",
              "  <tbody>\n",
              "    <tr>\n",
              "      <th>00576224_0</th>\n",
              "      <td>|430000000000000000000000000000|86000000000000...</td>\n",
              "    </tr>\n",
              "    <tr>\n",
              "      <th>009d5c81_0</th>\n",
              "      <td>|327600000000000000000000000000|30460980000000...</td>\n",
              "    </tr>\n",
              "    <tr>\n",
              "      <th>00dbd492_0</th>\n",
              "      <td>|228723943507884705000000000000|58191897945340...</td>\n",
              "    </tr>\n",
              "  </tbody>\n",
              "</table>\n",
              "</div>"
            ],
            "text/plain": [
              "                                                       output\n",
              "output_id                                                    \n",
              "00576224_0  |430000000000000000000000000000|86000000000000...\n",
              "009d5c81_0  |327600000000000000000000000000|30460980000000...\n",
              "00dbd492_0  |228723943507884705000000000000|58191897945340..."
            ]
          },
          "metadata": {
            "tags": []
          }
        }
      ]
    }
  ]
}